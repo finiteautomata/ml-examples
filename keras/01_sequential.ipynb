{
 "cells": [
  {
   "cell_type": "markdown",
   "metadata": {},
   "source": [
    "# Getting Started with the sequential model\n",
    "\n",
    "https://keras.io/getting-started/sequential-model-guide/"
   ]
  },
  {
   "cell_type": "code",
   "execution_count": 1,
   "metadata": {},
   "outputs": [
    {
     "name": "stderr",
     "output_type": "stream",
     "text": [
      "Using TensorFlow backend.\n",
      "/home/marat/.pyenv/versions/3.6.0/lib/python3.6/importlib/_bootstrap.py:205: RuntimeWarning: compiletime version 3.5 of module 'tensorflow.python.framework.fast_tensor_util' does not match runtime version 3.6\n",
      "  return f(*args, **kwds)\n"
     ]
    }
   ],
   "source": [
    "from keras.models import Sequential\n",
    "from keras.layers import Dense, Activation\n",
    "\n",
    "model = Sequential([\n",
    "    Dense(32, input_shape=(784,)),\n",
    "    Activation('relu'),\n",
    "    Dense(10),\n",
    "    Activation('softmax'),\n",
    "])"
   ]
  },
  {
   "cell_type": "code",
   "execution_count": 2,
   "metadata": {},
   "outputs": [
    {
     "data": {
      "text/plain": [
       "<tf.Tensor 'dense_1_input:0' shape=(?, 784) dtype=float32>"
      ]
     },
     "execution_count": 2,
     "metadata": {},
     "output_type": "execute_result"
    }
   ],
   "source": [
    "model.input"
   ]
  },
  {
   "cell_type": "code",
   "execution_count": 3,
   "metadata": {},
   "outputs": [],
   "source": [
    "\n",
    "model = Sequential()\n",
    "model.add(Dense(32, input_dim=784))\n",
    "model.add(Activation('relu'))"
   ]
  },
  {
   "cell_type": "markdown",
   "metadata": {},
   "source": [
    "# Compilation\n",
    "\n",
    "Before training a model, you need to configure the learning process, which is done via the compile method. It receives three arguments:"
   ]
  },
  {
   "cell_type": "code",
   "execution_count": 11,
   "metadata": {},
   "outputs": [],
   "source": [
    "# For a mean squared error regression problem\n",
    "\n",
    "model.compile(optimizer='rmsprop',\n",
    "              loss='mse')"
   ]
  },
  {
   "cell_type": "code",
   "execution_count": 13,
   "metadata": {},
   "outputs": [
    {
     "name": "stdout",
     "output_type": "stream",
     "text": [
      "Epoch 1/10\n",
      "1000/1000 [==============================] - 0s 134us/step - loss: 0.7008 - acc: 0.5400\n",
      "Epoch 2/10\n",
      "1000/1000 [==============================] - 0s 31us/step - loss: 0.6939 - acc: 0.5220\n",
      "Epoch 3/10\n",
      "1000/1000 [==============================] - 0s 33us/step - loss: 0.6900 - acc: 0.5320\n",
      "Epoch 4/10\n",
      "1000/1000 [==============================] - 0s 34us/step - loss: 0.6852 - acc: 0.5610\n",
      "Epoch 5/10\n",
      "1000/1000 [==============================] - 0s 30us/step - loss: 0.6817 - acc: 0.5740\n",
      "Epoch 6/10\n",
      "1000/1000 [==============================] - 0s 29us/step - loss: 0.6783 - acc: 0.5730\n",
      "Epoch 7/10\n",
      "1000/1000 [==============================] - 0s 29us/step - loss: 0.6719 - acc: 0.5710\n",
      "Epoch 8/10\n",
      "1000/1000 [==============================] - 0s 31us/step - loss: 0.6725 - acc: 0.5730\n",
      "Epoch 9/10\n",
      "1000/1000 [==============================] - 0s 32us/step - loss: 0.6685 - acc: 0.5740\n",
      "Epoch 10/10\n",
      "1000/1000 [==============================] - 0s 31us/step - loss: 0.6660 - acc: 0.6060\n"
     ]
    },
    {
     "data": {
      "text/plain": [
       "<keras.callbacks.History at 0x7f1c15974f98>"
      ]
     },
     "execution_count": 13,
     "metadata": {},
     "output_type": "execute_result"
    }
   ],
   "source": [
    "model = Sequential()\n",
    "model.add(Dense(32, activation='relu', input_dim=100))\n",
    "model.add(Dense(1, activation='sigmoid'))\n",
    "model.compile(optimizer='rmsprop',\n",
    "              loss='binary_crossentropy',\n",
    "              metrics=['accuracy'])\n",
    "\n",
    "\n",
    "# Generate dummy data\n",
    "import numpy as np\n",
    "data = np.random.random((1000, 100))\n",
    "labels = np.random.randint(2, size=(1000, 1))\n",
    "\n",
    "# Train the model, iterating on the data in batches of 32 samples\n",
    "model.fit(data, labels, epochs=10, batch_size=32)"
   ]
  },
  {
   "cell_type": "markdown",
   "metadata": {},
   "source": [
    "# MLP for Binary Classification"
   ]
  },
  {
   "cell_type": "code",
   "execution_count": 16,
   "metadata": {},
   "outputs": [
    {
     "name": "stdout",
     "output_type": "stream",
     "text": [
      "Epoch 1/20\n",
      "1000/1000 [==============================] - 0s 87us/step - loss: 0.6982 - acc: 0.4950\n",
      "Epoch 2/20\n",
      "1000/1000 [==============================] - 0s 12us/step - loss: 0.6943 - acc: 0.5110\n",
      "Epoch 3/20\n",
      "1000/1000 [==============================] - 0s 16us/step - loss: 0.6931 - acc: 0.5300\n",
      "Epoch 4/20\n",
      "1000/1000 [==============================] - 0s 9us/step - loss: 0.6914 - acc: 0.5420\n",
      "Epoch 5/20\n",
      "1000/1000 [==============================] - 0s 11us/step - loss: 0.6905 - acc: 0.5310\n",
      "Epoch 6/20\n",
      "1000/1000 [==============================] - 0s 14us/step - loss: 0.6900 - acc: 0.5380\n",
      "Epoch 7/20\n",
      "1000/1000 [==============================] - 0s 11us/step - loss: 0.6891 - acc: 0.5360\n",
      "Epoch 8/20\n",
      "1000/1000 [==============================] - 0s 12us/step - loss: 0.6887 - acc: 0.5360\n",
      "Epoch 9/20\n",
      "1000/1000 [==============================] - 0s 9us/step - loss: 0.6877 - acc: 0.5500\n",
      "Epoch 10/20\n",
      "1000/1000 [==============================] - 0s 13us/step - loss: 0.6875 - acc: 0.5580\n",
      "Epoch 11/20\n",
      "1000/1000 [==============================] - 0s 9us/step - loss: 0.6865 - acc: 0.5620\n",
      "Epoch 12/20\n",
      "1000/1000 [==============================] - 0s 23us/step - loss: 0.6857 - acc: 0.5600\n",
      "Epoch 13/20\n",
      "1000/1000 [==============================] - 0s 9us/step - loss: 0.6847 - acc: 0.5710\n",
      "Epoch 14/20\n",
      "1000/1000 [==============================] - 0s 10us/step - loss: 0.6846 - acc: 0.5650\n",
      "Epoch 15/20\n",
      "1000/1000 [==============================] - 0s 14us/step - loss: 0.6847 - acc: 0.5580\n",
      "Epoch 16/20\n",
      "1000/1000 [==============================] - 0s 15us/step - loss: 0.6833 - acc: 0.5790\n",
      "Epoch 17/20\n",
      "1000/1000 [==============================] - 0s 13us/step - loss: 0.6830 - acc: 0.5700\n",
      "Epoch 18/20\n",
      "1000/1000 [==============================] - 0s 7us/step - loss: 0.6820 - acc: 0.5720\n",
      "Epoch 19/20\n",
      "1000/1000 [==============================] - 0s 14us/step - loss: 0.6822 - acc: 0.5720\n",
      "Epoch 20/20\n",
      "1000/1000 [==============================] - 0s 11us/step - loss: 0.6811 - acc: 0.5730\n",
      "100/100 [==============================] - 0s 293us/step\n"
     ]
    }
   ],
   "source": [
    "import numpy as np\n",
    "from keras.models import Sequential\n",
    "from keras.layers import Dense, Dropout\n",
    "\n",
    "\n",
    "model = Sequential()\n",
    "model.add(Dense(64, input_dim=20, activation='relu'))\n",
    "model.add(Dense(1, activation='sigmoid'))\n",
    "\n",
    "model.compile(loss='binary_crossentropy',\n",
    "              optimizer='rmsprop',\n",
    "              metrics=['accuracy'])\n",
    "\n",
    "model.fit(x_train, y_train,\n",
    "          epochs=20,\n",
    "          batch_size=128)\n",
    "score = model.evaluate(x_test, y_test, batch_size=128)"
   ]
  },
  {
   "cell_type": "code",
   "execution_count": null,
   "metadata": {},
   "outputs": [],
   "source": []
  }
 ],
 "metadata": {
  "kernelspec": {
   "display_name": "Python 3",
   "language": "python",
   "name": "python3"
  },
  "language_info": {
   "codemirror_mode": {
    "name": "ipython",
    "version": 3
   },
   "file_extension": ".py",
   "mimetype": "text/x-python",
   "name": "python",
   "nbconvert_exporter": "python",
   "pygments_lexer": "ipython3",
   "version": "3.6.0"
  }
 },
 "nbformat": 4,
 "nbformat_minor": 2
}
