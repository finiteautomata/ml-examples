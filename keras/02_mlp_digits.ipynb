{
 "cells": [
  {
   "cell_type": "markdown",
   "metadata": {},
   "source": [
    "# Digits and NN"
   ]
  },
  {
   "cell_type": "code",
   "execution_count": 1,
   "metadata": {},
   "outputs": [],
   "source": [
    "%matplotlib inline\n",
    "from sklearn.model_selection import train_test_split\n",
    "from sklearn import datasets\n",
    "import matplotlib.pyplot as plt\n",
    "\n",
    "digits = datasets.load_digits()"
   ]
  },
  {
   "cell_type": "code",
   "execution_count": 2,
   "metadata": {},
   "outputs": [
    {
     "data": {
      "text/plain": [
       "<matplotlib.image.AxesImage at 0x7f2e7a146cf8>"
      ]
     },
     "execution_count": 2,
     "metadata": {},
     "output_type": "execute_result"
    },
    {
     "data": {
      "image/png": "[encoded data removed]",
      "text/plain": [
       "<matplotlib.figure.Figure at 0x7f2eac597208>"
      ]
     },
     "metadata": {},
     "output_type": "display_data"
    }
   ],
   "source": [
    "plt.imshow(digits.images[100], cmap=plt.cm.gray_r)\n"
   ]
  },
  {
   "cell_type": "markdown",
   "metadata": {},
   "source": [
    "Let's split the data into train and test using sklearn's function.\n",
    "\n",
    "Before splitting it, we convert it into one-hot encoding: instead of having a vector such as $(1, 2, 10, \\ldots)$ we have a matrix with 10 columns with just \"one-hot\" position with a one."
   ]
  },
  {
   "cell_type": "code",
   "execution_count": 3,
   "metadata": {},
   "outputs": [
    {
     "name": "stderr",
     "output_type": "stream",
     "text": [
      "Using TensorFlow backend.\n",
      "/home/jmperez/.pyenv/versions/3.6.0/lib/python3.6/importlib/_bootstrap.py:205: RuntimeWarning: compiletime version 3.5 of module 'tensorflow.python.framework.fast_tensor_util' does not match runtime version 3.6\n",
      "  return f(*args, **kwds)\n"
     ]
    },
    {
     "data": {
      "text/plain": [
       "((1347, 64), (1347, 10), (450, 64), (450, 10))"
      ]
     },
     "execution_count": 3,
     "metadata": {},
     "output_type": "execute_result"
    }
   ],
   "source": [
    "import keras\n",
    "\n",
    "X, y_cat = digits.data, digits.target\n",
    "\n",
    "y = keras.utils.to_categorical(y_cat)\n",
    "\n",
    "X_train, X_test, y_train, y_test = train_test_split(X, y)\n",
    "\n",
    "X_train.shape, y_train.shape, X_test.shape, y_test.shape"
   ]
  },
  {
   "cell_type": "markdown",
   "metadata": {},
   "source": [
    "## Feed-forward network"
   ]
  },
  {
   "cell_type": "markdown",
   "metadata": {},
   "source": [
    "Let's define our model. \n",
    "\n",
    "It will be have 64 input, a hidden layer of 128 neurons, and a softmax layer of 10 units (one per possible digit)"
   ]
  },
  {
   "cell_type": "code",
   "execution_count": 4,
   "metadata": {},
   "outputs": [],
   "source": [
    "from keras.models import Sequential\n",
    "from keras.layers import Dense\n",
    "\n",
    "model = Sequential()\n",
    "model.add(Dense(256, input_dim=64, activation='relu'))\n",
    "model.add(Dense(10, activation='softmax'))\n",
    "\n",
    "model.compile(loss=\"categorical_crossentropy\", optimizer=\"rmsprop\", metrics=[\"accuracy\"])\n",
    "\n"
   ]
  },
  {
   "cell_type": "code",
   "execution_count": 5,
   "metadata": {},
   "outputs": [
    {
     "name": "stdout",
     "output_type": "stream",
     "text": [
      "Epoch 1/10\n",
      "1347/1347 [==============================] - 0s 58us/step - loss: 1.2325 - acc: 0.6823\n",
      "Epoch 2/10\n",
      "1347/1347 [==============================] - 0s 22us/step - loss: 0.2598 - acc: 0.9191\n",
      "Epoch 3/10\n",
      "1347/1347 [==============================] - 0s 22us/step - loss: 0.1637 - acc: 0.9436\n",
      "Epoch 4/10\n",
      "1347/1347 [==============================] - 0s 24us/step - loss: 0.1042 - acc: 0.9688\n",
      "Epoch 5/10\n",
      "1347/1347 [==============================] - 0s 22us/step - loss: 0.0655 - acc: 0.9814\n",
      "Epoch 6/10\n",
      "1347/1347 [==============================] - 0s 22us/step - loss: 0.0618 - acc: 0.9822\n",
      "Epoch 7/10\n",
      "1347/1347 [==============================] - 0s 23us/step - loss: 0.0390 - acc: 0.9903\n",
      "Epoch 8/10\n",
      "1347/1347 [==============================] - 0s 23us/step - loss: 0.0350 - acc: 0.9918\n",
      "Epoch 9/10\n",
      "1347/1347 [==============================] - 0s 25us/step - loss: 0.0233 - acc: 0.9941\n",
      "Epoch 10/10\n",
      "1347/1347 [==============================] - 0s 23us/step - loss: 0.0260 - acc: 0.9911\n"
     ]
    },
    {
     "data": {
      "text/plain": [
       "<keras.callbacks.History at 0x7f2e6d1514a8>"
      ]
     },
     "execution_count": 5,
     "metadata": {},
     "output_type": "execute_result"
    }
   ],
   "source": [
    "model.fit(X_train, y_train, epochs=10, batch_size=50)"
   ]
  },
  {
   "cell_type": "code",
   "execution_count": 6,
   "metadata": {},
   "outputs": [
    {
     "name": "stdout",
     "output_type": "stream",
     "text": [
      "450/450 [==============================] - 0s 37us/step\n"
     ]
    },
    {
     "data": {
      "text/plain": [
       "[0.11981976743464151, 0.9622222222222222]"
      ]
     },
     "execution_count": 6,
     "metadata": {},
     "output_type": "execute_result"
    }
   ],
   "source": [
    "model.evaluate(X_test, y_test)"
   ]
  },
  {
   "cell_type": "markdown",
   "metadata": {},
   "source": [
    "## Visualizing the model"
   ]
  },
  {
   "cell_type": "code",
   "execution_count": 7,
   "metadata": {},
   "outputs": [
    {
     "data": {
      "image/svg+xml": [
       "<svg height=\"78pt\" viewBox=\"0.00 0.00 561.00 78.00\" width=\"561pt\" xmlns=\"http://www.w3.org/2000/svg\" xmlns:xlink=\"http://www.w3.org/1999/xlink\">\n",
       "<g class=\"graph\" id=\"graph0\" transform=\"scale(1 1) rotate(0) translate(4 74)\">\n",
       "<title>G</title>\n",
       "<polygon fill=\"white\" points=\"-4,4 -4,-74 557,-74 557,4 -4,4\" stroke=\"none\"/>\n",
       "<!-- 139837375323048 -->\n",
       "<g class=\"node\" id=\"node1\"><title>139837375323048</title>\n",
       "<polygon fill=\"none\" points=\"5.68434e-14,-0.5 5.68434e-14,-69.5 163,-69.5 163,-0.5 5.68434e-14,-0.5\" stroke=\"black\"/>\n",
       "<text font-family=\"Times,serif\" font-size=\"14.00\" text-anchor=\"middle\" x=\"81.5\" y=\"-54.3\">dense_1_input: InputLayer</text>\n",
       "<polyline fill=\"none\" points=\"5.68434e-14,-46.5 163,-46.5 \" stroke=\"black\"/>\n",
       "<text font-family=\"Times,serif\" font-size=\"14.00\" text-anchor=\"middle\" x=\"39\" y=\"-31.3\">input:</text>\n",
       "<polyline fill=\"none\" points=\"78,-23.5 78,-46.5 \" stroke=\"black\"/>\n",
       "<text font-family=\"Times,serif\" font-size=\"14.00\" text-anchor=\"middle\" x=\"120.5\" y=\"-31.3\">output:</text>\n",
       "<polyline fill=\"none\" points=\"5.68434e-14,-23.5 163,-23.5 \" stroke=\"black\"/>\n",
       "<text font-family=\"Times,serif\" font-size=\"14.00\" text-anchor=\"middle\" x=\"40.5\" y=\"-8.3\">(None, 64)</text>\n",
       "<polyline fill=\"none\" points=\"81,-0.5 81,-23.5 \" stroke=\"black\"/>\n",
       "<text font-family=\"Times,serif\" font-size=\"14.00\" text-anchor=\"middle\" x=\"122\" y=\"-8.3\">(None, 64)</text>\n",
       "</g>\n",
       "<!-- 139837375322600 -->\n",
       "<g class=\"node\" id=\"node2\"><title>139837375322600</title>\n",
       "<polygon fill=\"none\" points=\"199,-0.5 199,-69.5 358,-69.5 358,-0.5 199,-0.5\" stroke=\"black\"/>\n",
       "<text font-family=\"Times,serif\" font-size=\"14.00\" text-anchor=\"middle\" x=\"278.5\" y=\"-54.3\">dense_1: Dense</text>\n",
       "<polyline fill=\"none\" points=\"199,-46.5 358,-46.5 \" stroke=\"black\"/>\n",
       "<text font-family=\"Times,serif\" font-size=\"14.00\" text-anchor=\"middle\" x=\"237\" y=\"-31.3\">input:</text>\n",
       "<polyline fill=\"none\" points=\"275,-23.5 275,-46.5 \" stroke=\"black\"/>\n",
       "<text font-family=\"Times,serif\" font-size=\"14.00\" text-anchor=\"middle\" x=\"316.5\" y=\"-31.3\">output:</text>\n",
       "<polyline fill=\"none\" points=\"199,-23.5 358,-23.5 \" stroke=\"black\"/>\n",
       "<text font-family=\"Times,serif\" font-size=\"14.00\" text-anchor=\"middle\" x=\"237\" y=\"-8.3\">(None, 64)</text>\n",
       "<polyline fill=\"none\" points=\"275,-0.5 275,-23.5 \" stroke=\"black\"/>\n",
       "<text font-family=\"Times,serif\" font-size=\"14.00\" text-anchor=\"middle\" x=\"316.5\" y=\"-8.3\">(None, 256)</text>\n",
       "</g>\n",
       "<!-- 139837375323048&#45;&gt;139837375322600 -->\n",
       "<g class=\"edge\" id=\"edge1\"><title>139837375323048-&gt;139837375322600</title>\n",
       "<path d=\"M163.222,-35C171.564,-35 180.076,-35 188.503,-35\" fill=\"none\" stroke=\"black\"/>\n",
       "<polygon fill=\"black\" points=\"188.722,-38.5001 198.722,-35 188.722,-31.5001 188.722,-38.5001\" stroke=\"black\"/>\n",
       "</g>\n",
       "<!-- 139837375322488 -->\n",
       "<g class=\"node\" id=\"node3\"><title>139837375322488</title>\n",
       "<polygon fill=\"none\" points=\"394,-0.5 394,-69.5 553,-69.5 553,-0.5 394,-0.5\" stroke=\"black\"/>\n",
       "<text font-family=\"Times,serif\" font-size=\"14.00\" text-anchor=\"middle\" x=\"473.5\" y=\"-54.3\">dense_2: Dense</text>\n",
       "<polyline fill=\"none\" points=\"394,-46.5 553,-46.5 \" stroke=\"black\"/>\n",
       "<text font-family=\"Times,serif\" font-size=\"14.00\" text-anchor=\"middle\" x=\"432\" y=\"-31.3\">input:</text>\n",
       "<polyline fill=\"none\" points=\"470,-23.5 470,-46.5 \" stroke=\"black\"/>\n",
       "<text font-family=\"Times,serif\" font-size=\"14.00\" text-anchor=\"middle\" x=\"511.5\" y=\"-31.3\">output:</text>\n",
       "<polyline fill=\"none\" points=\"394,-23.5 553,-23.5 \" stroke=\"black\"/>\n",
       "<text font-family=\"Times,serif\" font-size=\"14.00\" text-anchor=\"middle\" x=\"435.5\" y=\"-8.3\">(None, 256)</text>\n",
       "<polyline fill=\"none\" points=\"477,-0.5 477,-23.5 \" stroke=\"black\"/>\n",
       "<text font-family=\"Times,serif\" font-size=\"14.00\" text-anchor=\"middle\" x=\"515\" y=\"-8.3\">(None, 10)</text>\n",
       "</g>\n",
       "<!-- 139837375322600&#45;&gt;139837375322488 -->\n",
       "<g class=\"edge\" id=\"edge2\"><title>139837375322600-&gt;139837375322488</title>\n",
       "<path d=\"M358,-35C366.477,-35 375.145,-35 383.731,-35\" fill=\"none\" stroke=\"black\"/>\n",
       "<polygon fill=\"black\" points=\"383.756,-38.5001 393.756,-35 383.756,-31.5001 383.756,-38.5001\" stroke=\"black\"/>\n",
       "</g>\n",
       "</g>\n",
       "</svg>"
      ],
      "text/plain": [
       "<IPython.core.display.SVG object>"
      ]
     },
     "execution_count": 7,
     "metadata": {},
     "output_type": "execute_result"
    }
   ],
   "source": [
    "from IPython.display import SVG\n",
    "from keras.utils.vis_utils import model_to_dot\n",
    "\n",
    "SVG(model_to_dot(model, show_shapes=True, rankdir='LR').create(prog='dot', format='svg'))"
   ]
  },
  {
   "cell_type": "markdown",
   "metadata": {},
   "source": [
    "## Find misclassified instances"
   ]
  },
  {
   "cell_type": "code",
   "execution_count": 8,
   "metadata": {},
   "outputs": [
    {
     "name": "stdout",
     "output_type": "stream",
     "text": [
      "[ 52  70  98 112 130 163 189 199 216 256 309 345 399 409 420 427 428]\n"
     ]
    }
   ],
   "source": [
    "import numpy as np\n",
    "\n",
    "y_classes = np.argmax(y_test, axis=1)\n",
    "y_pred = np.argmax(model.predict(X_test), axis=1)\n",
    "\n",
    "# Returns a tuple, god know why\n",
    "misclassified = np.where(y_classes != y_pred)[0]\n",
    "\n",
    "print(misclassified)\n"
   ]
  },
  {
   "cell_type": "markdown",
   "metadata": {},
   "source": [
    "Let's take a look at the misclassified instances. What do they look like?"
   ]
  },
  {
   "cell_type": "code",
   "execution_count": 9,
   "metadata": {},
   "outputs": [
    {
     "data": {
      "image/png": "[encoded data removed]",
      "text/plain": [
       "<matplotlib.figure.Figure at 0x7f2e7a460c88>"
      ]
     },
     "metadata": {},
     "output_type": "display_data"
    },
    {
     "data": {
      "image/png": "[encoded data removed]",
      "text/plain": [
       "<matplotlib.figure.Figure at 0x7f2e68ca1e10>"
      ]
     },
     "metadata": {},
     "output_type": "display_data"
    },
    {
     "data": {
      "image/png": "[encoded data removed]",
      "text/plain": [
       "<matplotlib.figure.Figure at 0x7f2e68c7cc50>"
      ]
     },
     "metadata": {},
     "output_type": "display_data"
    },
    {
     "data": {
      "image/png": "[encoded data removed]",
      "text/plain": [
       "<matplotlib.figure.Figure at 0x7f2e68bd7c50>"
      ]
     },
     "metadata": {},
     "output_type": "display_data"
    },
    {
     "data": {
      "image/png": "[encoded data removed]",
      "text/plain": [
       "<matplotlib.figure.Figure at 0x7f2e68bb2c50>"
      ]
     },
     "metadata": {},
     "output_type": "display_data"
    },
    {
     "data": {
      "image/png": "[encoded data removed]",
      "text/plain": [
       "<matplotlib.figure.Figure at 0x7f2e68b0eda0>"
      ]
     },
     "metadata": {},
     "output_type": "display_data"
    },
    {
     "data": {
      "image/png": "[encoded data removed]",
      "text/plain": [
       "<matplotlib.figure.Figure at 0x7f2e68ae8da0>"
      ]
     },
     "metadata": {},
     "output_type": "display_data"
    },
    {
     "data": {
      "image/png": "[encoded data removed]",
      "text/plain": [
       "<matplotlib.figure.Figure at 0x7f2e68ac5da0>"
      ]
     },
     "metadata": {},
     "output_type": "display_data"
    },
    {
     "data": {
      "image/png": "[encoded data removed]",
      "text/plain": [
       "<matplotlib.figure.Figure at 0x7f2e68d5c198>"
      ]
     },
     "metadata": {},
     "output_type": "display_data"
    },
    {
     "data": {
      "image/png": "[encoded data removed]",
      "text/plain": [
       "<matplotlib.figure.Figure at 0x7f2e68b08c88>"
      ]
     },
     "metadata": {},
     "output_type": "display_data"
    },
    {
     "data": {
      "image/png": "[encoded data removed]",
      "text/plain": [
       "<matplotlib.figure.Figure at 0x7f2e90674d30>"
      ]
     },
     "metadata": {},
     "output_type": "display_data"
    },
    {
     "data": {
      "image/png": "[encoded data removed]",
      "text/plain": [
       "<matplotlib.figure.Figure at 0x7f2e68d6f6d8>"
      ]
     },
     "metadata": {},
     "output_type": "display_data"
    },
    {
     "data": {
      "image/png": "[encoded data removed]",
      "text/plain": [
       "<matplotlib.figure.Figure at 0x7f2e68b0c668>"
      ]
     },
     "metadata": {},
     "output_type": "display_data"
    },
    {
     "data": {
      "image/png": "[encoded data removed]",
      "text/plain": [
       "<matplotlib.figure.Figure at 0x7f2e68cbbf28>"
      ]
     },
     "metadata": {},
     "output_type": "display_data"
    },
    {
     "data": {
      "image/png": "[encoded data removed]",
      "text/plain": [
       "<matplotlib.figure.Figure at 0x7f2e68c0dda0>"
      ]
     },
     "metadata": {},
     "output_type": "display_data"
    },
    {
     "data": {
      "image/png": "[encoded data removed]",
      "text/plain": [
       "<matplotlib.figure.Figure at 0x7f2e68b9aeb8>"
      ]
     },
     "metadata": {},
     "output_type": "display_data"
    },
    {
     "data": {
      "image/png": "[encoded data removed]",
      "text/plain": [
       "<matplotlib.figure.Figure at 0x7f2e68a2fd30>"
      ]
     },
     "metadata": {},
     "output_type": "display_data"
    }
   ],
   "source": [
    "for index in misclassified:\n",
    "    plt.imshow(X_test[index].reshape(8, -1), cmap=plt.cm.gray_r)\n",
    "    plt.show()"
   ]
  },
  {
   "cell_type": "markdown",
   "metadata": {},
   "source": [
    "## Normalizing"
   ]
  },
  {
   "cell_type": "code",
   "execution_count": 10,
   "metadata": {},
   "outputs": [
    {
     "data": {
      "text/plain": [
       "array([  0.,   0.,   5.,  13.,   9.,   1.,   0.,   0.,   0.,   0.,  13.,\n",
       "        15.,  10.,  15.,   5.,   0.,   0.,   3.,  15.,   2.,   0.,  11.,\n",
       "         8.,   0.,   0.,   4.,  12.,   0.,   0.,   8.,   8.,   0.,   0.,\n",
       "         5.,   8.,   0.,   0.,   9.,   8.,   0.,   0.,   4.,  11.,   0.,\n",
       "         1.,  12.,   7.,   0.,   0.,   2.,  14.,   5.,  10.,  12.,   0.,\n",
       "         0.,   0.,   0.,   6.,  13.,  10.,   0.,   0.,   0.])"
      ]
     },
     "execution_count": 10,
     "metadata": {},
     "output_type": "execute_result"
    }
   ],
   "source": [
    "X, y_cat = digits.data, digits.target\n",
    "\n",
    "y = keras.utils.to_categorical(y_cat)\n",
    "\n",
    "X[0]"
   ]
  },
  {
   "cell_type": "markdown",
   "metadata": {},
   "source": [
    "Let's try moving these values to $[0, 1]$"
   ]
  },
  {
   "cell_type": "code",
   "execution_count": 11,
   "metadata": {},
   "outputs": [
    {
     "data": {
      "text/plain": [
       "array([ 0.    ,  0.    ,  0.    ,  0.6875,  0.625 ,  0.    ,  0.    ,\n",
       "        0.    ,  0.    ,  0.    ,  0.5   ,  1.    ,  0.3125,  0.    ,\n",
       "        0.    ,  0.    ,  0.    ,  0.1875,  1.    ,  0.625 ,  0.25  ,\n",
       "        0.6875,  0.    ,  0.    ,  0.    ,  0.6875,  0.8125,  0.    ,\n",
       "        0.5625,  1.    ,  0.    ,  0.    ,  0.    ,  0.75  ,  0.8125,\n",
       "        0.3125,  0.875 ,  1.    ,  0.5   ,  0.    ,  0.    ,  0.1875,\n",
       "        0.75  ,  0.875 ,  1.    ,  0.6875,  0.1875,  0.    ,  0.    ,\n",
       "        0.    ,  0.    ,  0.625 ,  0.6875,  0.    ,  0.    ,  0.    ,\n",
       "        0.    ,  0.    ,  0.    ,  0.6875,  0.5   ,  0.    ,  0.    ,  0.    ])"
      ]
     },
     "execution_count": 11,
     "metadata": {},
     "output_type": "execute_result"
    }
   ],
   "source": [
    "\n",
    "X_train, X_test, y_train, y_test = train_test_split(X, y)\n",
    "\n",
    "X_train /= np.max(X_train)\n",
    "X_test /= np.max(X_test)\n",
    "\n",
    "X_train[0]"
   ]
  },
  {
   "cell_type": "code",
   "execution_count": 12,
   "metadata": {},
   "outputs": [],
   "source": [
    "\n",
    "model = Sequential()\n",
    "model.add(Dense(256, input_dim=64, activation='relu'))\n",
    "model.add(Dense(10, activation='softmax'))\n",
    "\n",
    "model.compile(loss=\"categorical_crossentropy\", optimizer=\"rmsprop\", metrics=[\"accuracy\"])\n",
    "\n"
   ]
  },
  {
   "cell_type": "code",
   "execution_count": 13,
   "metadata": {},
   "outputs": [
    {
     "name": "stdout",
     "output_type": "stream",
     "text": [
      "Epoch 1/10\n",
      "1347/1347 [==============================] - 0s 62us/step - loss: 1.7730 - acc: 0.6310\n",
      "Epoch 2/10\n",
      "1347/1347 [==============================] - 0s 22us/step - loss: 1.0512 - acc: 0.8731\n",
      "Epoch 3/10\n",
      "1347/1347 [==============================] - 0s 22us/step - loss: 0.6539 - acc: 0.9065\n",
      "Epoch 4/10\n",
      "1347/1347 [==============================] - 0s 22us/step - loss: 0.4498 - acc: 0.9220\n",
      "Epoch 5/10\n",
      "1347/1347 [==============================] - 0s 22us/step - loss: 0.3352 - acc: 0.9310\n",
      "Epoch 6/10\n",
      "1347/1347 [==============================] - 0s 22us/step - loss: 0.2683 - acc: 0.9436\n",
      "Epoch 7/10\n",
      "1347/1347 [==============================] - 0s 22us/step - loss: 0.2256 - acc: 0.9517\n",
      "Epoch 8/10\n",
      "1347/1347 [==============================] - 0s 23us/step - loss: 0.1955 - acc: 0.9607\n",
      "Epoch 9/10\n",
      "1347/1347 [==============================] - 0s 25us/step - loss: 0.1706 - acc: 0.9659\n",
      "Epoch 10/10\n",
      "1347/1347 [==============================] - 0s 23us/step - loss: 0.1518 - acc: 0.9666\n"
     ]
    },
    {
     "data": {
      "text/plain": [
       "<keras.callbacks.History at 0x7f2e6d151128>"
      ]
     },
     "execution_count": 13,
     "metadata": {},
     "output_type": "execute_result"
    }
   ],
   "source": [
    "model.fit(X_train, y_train, epochs=10, batch_size=50)"
   ]
  },
  {
   "cell_type": "code",
   "execution_count": 14,
   "metadata": {},
   "outputs": [
    {
     "name": "stdout",
     "output_type": "stream",
     "text": [
      "450/450 [==============================] - 0s 46us/step\n"
     ]
    },
    {
     "data": {
      "text/plain": [
       "[0.13569692820310592, 0.97999999999999998]"
      ]
     },
     "execution_count": 14,
     "metadata": {},
     "output_type": "execute_result"
    }
   ],
   "source": [
    "model.evaluate(X_test, y_test)"
   ]
  },
  {
   "cell_type": "markdown",
   "metadata": {},
   "source": [
    "At least here, it doesn't seem to outperform significantly the non-normalized version"
   ]
  }
 ],
 "metadata": {
  "kernelspec": {
   "display_name": "Python 3",
   "language": "python",
   "name": "python3"
  },
  "language_info": {
   "codemirror_mode": {
    "name": "ipython",
    "version": 3
   },
   "file_extension": ".py",
   "mimetype": "text/x-python",
   "name": "python",
   "nbconvert_exporter": "python",
   "pygments_lexer": "ipython3",
   "version": "3.6.0"
  }
 },
 "nbformat": 4,
 "nbformat_minor": 2
}
