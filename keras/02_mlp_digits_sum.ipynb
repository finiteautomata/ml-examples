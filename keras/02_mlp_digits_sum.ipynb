{
 "cells": [
  {
   "cell_type": "markdown",
   "metadata": {},
   "source": [
    "# Digits sum\n",
    "\n",
    "Let's train a neural network that learns to sum numbers (up to 3 digits, let's say)"
   ]
  },
  {
   "cell_type": "code",
   "execution_count": 1,
   "metadata": {},
   "outputs": [],
   "source": [
    "%matplotlib inline"
   ]
  },
  {
   "cell_type": "code",
   "execution_count": 2,
   "metadata": {},
   "outputs": [],
   "source": [
    "import numpy as np\n",
    "\n",
    "def generate_number(n, padding=1):\n",
    "    x = int(np.random.uniform(0, 10**n-1))\n",
    "    num = str(x)\n",
    "    ret = '0'* (padding + n - len(num)) + num\n",
    "    return ret\n",
    "\n",
    "def get_digits(n):\n",
    "    return [int(i) for i in str(n)]\n",
    "\n",
    "X = [[0, 0, 0, 0, 0, 0, 0, 0]] \n",
    "y = [0]\n",
    "\n",
    "for i in range(100000):\n",
    "    a, b = generate_number(3), generate_number(3)\n",
    "    \n",
    "    X.append(get_digits(a) + get_digits(b))\n",
    "    y.append(int(a) + int(b))"
   ]
  },
  {
   "cell_type": "code",
   "execution_count": 3,
   "metadata": {},
   "outputs": [
    {
     "name": "stdout",
     "output_type": "stream",
     "text": [
      "(75000, 8) (25001, 8)\n"
     ]
    },
    {
     "data": {
      "text/html": [
       "<div>\n",
       "<style scoped>\n",
       "    .dataframe tbody tr th:only-of-type {\n",
       "        vertical-align: middle;\n",
       "    }\n",
       "\n",
       "    .dataframe tbody tr th {\n",
       "        vertical-align: top;\n",
       "    }\n",
       "\n",
       "    .dataframe thead th {\n",
       "        text-align: right;\n",
       "    }\n",
       "</style>\n",
       "<table border=\"1\" class=\"dataframe\">\n",
       "  <thead>\n",
       "    <tr style=\"text-align: right;\">\n",
       "      <th></th>\n",
       "      <th>0</th>\n",
       "      <th>1</th>\n",
       "      <th>2</th>\n",
       "      <th>3</th>\n",
       "      <th>4</th>\n",
       "      <th>5</th>\n",
       "      <th>6</th>\n",
       "      <th>7</th>\n",
       "    </tr>\n",
       "  </thead>\n",
       "  <tbody>\n",
       "    <tr>\n",
       "      <th>0</th>\n",
       "      <td>0</td>\n",
       "      <td>0</td>\n",
       "      <td>0</td>\n",
       "      <td>0</td>\n",
       "      <td>0</td>\n",
       "      <td>0</td>\n",
       "      <td>0</td>\n",
       "      <td>0</td>\n",
       "    </tr>\n",
       "    <tr>\n",
       "      <th>222</th>\n",
       "      <td>0</td>\n",
       "      <td>2</td>\n",
       "      <td>2</td>\n",
       "      <td>0</td>\n",
       "      <td>0</td>\n",
       "      <td>0</td>\n",
       "      <td>0</td>\n",
       "      <td>2</td>\n",
       "    </tr>\n",
       "    <tr>\n",
       "      <th>1423</th>\n",
       "      <td>0</td>\n",
       "      <td>9</td>\n",
       "      <td>7</td>\n",
       "      <td>7</td>\n",
       "      <td>0</td>\n",
       "      <td>4</td>\n",
       "      <td>4</td>\n",
       "      <td>6</td>\n",
       "    </tr>\n",
       "    <tr>\n",
       "      <th>1472</th>\n",
       "      <td>0</td>\n",
       "      <td>5</td>\n",
       "      <td>0</td>\n",
       "      <td>5</td>\n",
       "      <td>0</td>\n",
       "      <td>9</td>\n",
       "      <td>6</td>\n",
       "      <td>7</td>\n",
       "    </tr>\n",
       "    <tr>\n",
       "      <th>714</th>\n",
       "      <td>0</td>\n",
       "      <td>7</td>\n",
       "      <td>0</td>\n",
       "      <td>1</td>\n",
       "      <td>0</td>\n",
       "      <td>0</td>\n",
       "      <td>1</td>\n",
       "      <td>3</td>\n",
       "    </tr>\n",
       "    <tr>\n",
       "      <th>1172</th>\n",
       "      <td>0</td>\n",
       "      <td>4</td>\n",
       "      <td>8</td>\n",
       "      <td>8</td>\n",
       "      <td>0</td>\n",
       "      <td>6</td>\n",
       "      <td>8</td>\n",
       "      <td>4</td>\n",
       "    </tr>\n",
       "    <tr>\n",
       "      <th>1248</th>\n",
       "      <td>0</td>\n",
       "      <td>2</td>\n",
       "      <td>9</td>\n",
       "      <td>5</td>\n",
       "      <td>0</td>\n",
       "      <td>9</td>\n",
       "      <td>5</td>\n",
       "      <td>3</td>\n",
       "    </tr>\n",
       "    <tr>\n",
       "      <th>1620</th>\n",
       "      <td>0</td>\n",
       "      <td>6</td>\n",
       "      <td>5</td>\n",
       "      <td>7</td>\n",
       "      <td>0</td>\n",
       "      <td>9</td>\n",
       "      <td>6</td>\n",
       "      <td>3</td>\n",
       "    </tr>\n",
       "    <tr>\n",
       "      <th>1687</th>\n",
       "      <td>0</td>\n",
       "      <td>7</td>\n",
       "      <td>5</td>\n",
       "      <td>2</td>\n",
       "      <td>0</td>\n",
       "      <td>9</td>\n",
       "      <td>3</td>\n",
       "      <td>5</td>\n",
       "    </tr>\n",
       "    <tr>\n",
       "      <th>893</th>\n",
       "      <td>0</td>\n",
       "      <td>2</td>\n",
       "      <td>6</td>\n",
       "      <td>3</td>\n",
       "      <td>0</td>\n",
       "      <td>6</td>\n",
       "      <td>3</td>\n",
       "      <td>0</td>\n",
       "    </tr>\n",
       "  </tbody>\n",
       "</table>\n",
       "</div>"
      ],
      "text/plain": [
       "      0  1  2  3  4  5  6  7\n",
       "0     0  0  0  0  0  0  0  0\n",
       "222   0  2  2  0  0  0  0  2\n",
       "1423  0  9  7  7  0  4  4  6\n",
       "1472  0  5  0  5  0  9  6  7\n",
       "714   0  7  0  1  0  0  1  3\n",
       "1172  0  4  8  8  0  6  8  4\n",
       "1248  0  2  9  5  0  9  5  3\n",
       "1620  0  6  5  7  0  9  6  3\n",
       "1687  0  7  5  2  0  9  3  5\n",
       "893   0  2  6  3  0  6  3  0"
      ]
     },
     "execution_count": 3,
     "metadata": {},
     "output_type": "execute_result"
    }
   ],
   "source": [
    "from sklearn.model_selection import train_test_split\n",
    "import pandas as pd\n",
    "X = np.array(X)\n",
    "y = np.array(y)\n",
    "\n",
    "X_train, X_test, y_train, y_test = train_test_split(X, y)\n",
    "\n",
    "print(X_train.shape, X_test.shape)\n",
    "\n",
    "pd.DataFrame(X, y).iloc[0:10]"
   ]
  },
  {
   "cell_type": "markdown",
   "metadata": {},
   "source": [
    "## MLP model"
   ]
  },
  {
   "cell_type": "code",
   "execution_count": 4,
   "metadata": {},
   "outputs": [
    {
     "name": "stderr",
     "output_type": "stream",
     "text": [
      "Using TensorFlow backend.\n",
      "/home/marat/.pyenv/versions/3.6.0/lib/python3.6/importlib/_bootstrap.py:205: RuntimeWarning: compiletime version 3.5 of module 'tensorflow.python.framework.fast_tensor_util' does not match runtime version 3.6\n",
      "  return f(*args, **kwds)\n"
     ]
    }
   ],
   "source": [
    "from keras.models import Sequential\n",
    "from keras.layers import Dense, Dropout\n",
    "from keras import metrics\n",
    "model = Sequential()\n",
    "model.add(Dense(32, input_dim=8))\n",
    "model.add(Dense(1))\n",
    "\n",
    "model.compile(loss='mse', optimizer=\"rmsprop\", metrics=[metrics.mse])\n"
   ]
  },
  {
   "cell_type": "code",
   "execution_count": 5,
   "metadata": {},
   "outputs": [
    {
     "name": "stdout",
     "output_type": "stream",
     "text": [
      "Train on 67500 samples, validate on 7500 samples\n",
      "Epoch 1/20\n",
      "67500/67500 [==============================] - 4s 59us/step - loss: 301435.7603 - mean_squared_error: 301435.7603 - val_loss: 595.0022 - val_mean_squared_error: 595.0022\n",
      "Epoch 2/20\n",
      "67500/67500 [==============================] - 4s 63us/step - loss: 18.9256 - mean_squared_error: 18.9256 - val_loss: 0.3239 - val_mean_squared_error: 0.3239\n",
      "Epoch 3/20\n",
      "67500/67500 [==============================] - 4s 59us/step - loss: 1.1023 - mean_squared_error: 1.1023 - val_loss: 1.9332 - val_mean_squared_error: 1.9332\n",
      "Epoch 4/20\n",
      "67500/67500 [==============================] - 3s 51us/step - loss: 1.1038 - mean_squared_error: 1.1038 - val_loss: 0.0631 - val_mean_squared_error: 0.0631\n",
      "Epoch 5/20\n",
      "67500/67500 [==============================] - 3s 51us/step - loss: 1.0999 - mean_squared_error: 1.0999 - val_loss: 0.3598 - val_mean_squared_error: 0.3598\n",
      "Epoch 6/20\n",
      "67500/67500 [==============================] - 4s 55us/step - loss: 1.0997 - mean_squared_error: 1.0997 - val_loss: 1.6023 - val_mean_squared_error: 1.6023\n",
      "Epoch 7/20\n",
      "67500/67500 [==============================] - 3s 47us/step - loss: 1.1036 - mean_squared_error: 1.1036 - val_loss: 1.2161 - val_mean_squared_error: 1.2161\n",
      "Epoch 8/20\n",
      "67500/67500 [==============================] - 4s 58us/step - loss: 1.1037 - mean_squared_error: 1.1037 - val_loss: 0.3806 - val_mean_squared_error: 0.3806\n",
      "Epoch 9/20\n",
      "67500/67500 [==============================] - 4s 63us/step - loss: 1.1037 - mean_squared_error: 1.1037 - val_loss: 1.7904 - val_mean_squared_error: 1.7904\n",
      "Epoch 10/20\n",
      "67500/67500 [==============================] - 4s 63us/step - loss: 1.1028 - mean_squared_error: 1.1028 - val_loss: 0.4778 - val_mean_squared_error: 0.4778\n",
      "Epoch 11/20\n",
      "67500/67500 [==============================] - 3s 50us/step - loss: 1.1030 - mean_squared_error: 1.1030 - val_loss: 1.1274 - val_mean_squared_error: 1.1274\n",
      "Epoch 12/20\n",
      "67500/67500 [==============================] - 3s 51us/step - loss: 1.0961 - mean_squared_error: 1.0961 - val_loss: 3.1045 - val_mean_squared_error: 3.1045\n",
      "Epoch 13/20\n",
      "67500/67500 [==============================] - 3s 51us/step - loss: 1.1041 - mean_squared_error: 1.1041 - val_loss: 1.5457 - val_mean_squared_error: 1.5457\n",
      "Epoch 14/20\n",
      "67500/67500 [==============================] - 3s 49us/step - loss: 1.0998 - mean_squared_error: 1.0998 - val_loss: 3.2725 - val_mean_squared_error: 3.2725\n",
      "Epoch 15/20\n",
      "67500/67500 [==============================] - 3s 48us/step - loss: 1.1018 - mean_squared_error: 1.1018 - val_loss: 0.8198 - val_mean_squared_error: 0.8198\n",
      "Epoch 16/20\n",
      "67500/67500 [==============================] - 3s 47us/step - loss: 1.1004 - mean_squared_error: 1.1004 - val_loss: 1.8264 - val_mean_squared_error: 1.8264\n",
      "Epoch 17/20\n",
      "67500/67500 [==============================] - 3s 46us/step - loss: 1.1002 - mean_squared_error: 1.1002 - val_loss: 0.2501 - val_mean_squared_error: 0.2501\n",
      "Epoch 18/20\n",
      "67500/67500 [==============================] - 3s 47us/step - loss: 1.1008 - mean_squared_error: 1.1008 - val_loss: 0.2909 - val_mean_squared_error: 0.2909\n",
      "Epoch 19/20\n",
      "67500/67500 [==============================] - 3s 47us/step - loss: 1.0997 - mean_squared_error: 1.0997 - val_loss: 1.4291 - val_mean_squared_error: 1.4291\n",
      "Epoch 20/20\n",
      "67500/67500 [==============================] - 3s 46us/step - loss: 1.1005 - mean_squared_error: 1.1005 - val_loss: 1.5986 - val_mean_squared_error: 1.5986\n"
     ]
    },
    {
     "data": {
      "text/plain": [
       "<keras.callbacks.History at 0x7f3b16fd0710>"
      ]
     },
     "execution_count": 5,
     "metadata": {},
     "output_type": "execute_result"
    }
   ],
   "source": [
    "model.fit(X_train, y_train, epochs=20, validation_split=0.1)"
   ]
  },
  {
   "cell_type": "code",
   "execution_count": 6,
   "metadata": {},
   "outputs": [
    {
     "name": "stdout",
     "output_type": "stream",
     "text": [
      "25001/25001 [==============================] - 1s 27us/step\n"
     ]
    },
    {
     "data": {
      "text/plain": [
       "[1.5881214856929786, 1.5881214856929786]"
      ]
     },
     "execution_count": 6,
     "metadata": {},
     "output_type": "execute_result"
    }
   ],
   "source": [
    "model.evaluate(X_test, y_test)"
   ]
  },
  {
   "cell_type": "code",
   "execution_count": 7,
   "metadata": {},
   "outputs": [
    {
     "name": "stdout",
     "output_type": "stream",
     "text": [
      "0674 + 0592 = 1264.54 (expected = 1266, error = -1.46)\n",
      "0527 + 0262 = 787.99 (expected = 789, error = -1.01)\n",
      "0302 + 0609 = 909.86 (expected = 911, error = -1.14)\n",
      "0700 + 0912 = 1610.72 (expected = 1612, error = -1.28)\n",
      "0772 + 0278 = 1048.48 (expected = 1050, error = -1.52)\n",
      "0028 + 0685 = 711.80 (expected = 713, error = -1.20)\n",
      "0234 + 0001 = 234.68 (expected = 235, error = -0.32)\n",
      "0264 + 0105 = 368.35 (expected = 369, error = -0.65)\n",
      "0411 + 0963 = 1372.63 (expected = 1374, error = -1.37)\n",
      "0124 + 0352 = 475.28 (expected = 476, error = -0.72)\n"
     ]
    }
   ],
   "source": [
    "for row in X_test[:10]:\n",
    "    a, b = row[:4], row[4:]\n",
    "    \n",
    "    a_str = \"\".join(a.astype(\"str\"))\n",
    "    b_str = \"\".join(b.astype(\"str\"))\n",
    "    \n",
    "    res = model.predict(row.reshape(1, -1))[0][0]\n",
    "    \n",
    "    expected = int(a_str) + int(b_str)\n",
    "    \n",
    "    print(\"{} + {} = {:.2f} (expected = {}, error = {:.2f})\".format(a_str, b_str, res, expected, res - expected))"
   ]
  },
  {
   "cell_type": "code",
   "execution_count": null,
   "metadata": {},
   "outputs": [],
   "source": []
  },
  {
   "cell_type": "code",
   "execution_count": null,
   "metadata": {},
   "outputs": [],
   "source": []
  }
 ],
 "metadata": {
  "kernelspec": {
   "display_name": "Python 3",
   "language": "python",
   "name": "python3"
  },
  "language_info": {
   "codemirror_mode": {
    "name": "ipython",
    "version": 3
   },
   "file_extension": ".py",
   "mimetype": "text/x-python",
   "name": "python",
   "nbconvert_exporter": "python",
   "pygments_lexer": "ipython3",
   "version": "3.6.0"
  }
 },
 "nbformat": 4,
 "nbformat_minor": 2
}
