{
  "nbformat": 4,
  "nbformat_minor": 0,
  "metadata": {
    "colab": {
      "name": "tf.estimator",
      "version": "0.3.2",
      "provenance": [],
      "include_colab_link": true
    },
    "kernelspec": {
      "name": "python3",
      "display_name": "Python 3"
    }
  },
  "cells": [
    {
      "cell_type": "markdown",
      "metadata": {
        "id": "view-in-github",
        "colab_type": "text"
      },
      "source": [
        "<a href=\"https://colab.research.google.com/github/finiteautomata/ml-examples/blob/master/tensorflow/estimator.ipynb\" target=\"_parent\"><img src=\"https://colab.research.google.com/assets/colab-badge.svg\" alt=\"Open In Colab\"/></a>"
      ]
    },
    {
      "metadata": {
        "id": "Mx6NdnSq8wOj",
        "colab_type": "text"
      },
      "cell_type": "markdown",
      "source": [
        "# tf.Estimator\n",
        "\n",
        "In this notebook, we will use TensorFlow premade estimators."
      ]
    },
    {
      "metadata": {
        "id": "Imah6oYX8zik",
        "colab_type": "code",
        "colab": {}
      },
      "cell_type": "code",
      "source": [
        "import tensorflow as tf\n",
        "import tensorflow.feature_column as fc\n",
        "\n",
        "import os\n",
        "import sys\n",
        "\n",
        "import matplotlib.pyplot as plt\n",
        "from IPython.display import clear_output\n",
        "\n"
      ],
      "execution_count": 0,
      "outputs": []
    },
    {
      "metadata": {
        "id": "YDxrPUhbAojR",
        "colab_type": "code",
        "colab": {
          "base_uri": "https://localhost:8080/",
          "height": 181
        },
        "outputId": "220d66cc-6b1f-4ca8-b076-0777fef2d5e1"
      },
      "cell_type": "code",
      "source": [
        "import numpy as np\n",
        "\n",
        "featcols = [\n",
        "    tf.feature_column.numeric_column(\"x1\"),\n",
        "    tf.feature_column.numeric_column(\"x2\"),\n",
        "]\n",
        "\n",
        "model = tf.estimator.LinearRegressor(featcols, model_dir=\"outdir\")"
      ],
      "execution_count": 3,
      "outputs": [
        {
          "output_type": "stream",
          "text": [
            "INFO:tensorflow:Using default config.\n",
            "INFO:tensorflow:Using config: {'_model_dir': 'outdir', '_tf_random_seed': None, '_save_summary_steps': 100, '_save_checkpoints_steps': None, '_save_checkpoints_secs': 600, '_session_config': allow_soft_placement: true\n",
            "graph_options {\n",
            "  rewrite_options {\n",
            "    meta_optimizer_iterations: ONE\n",
            "  }\n",
            "}\n",
            ", '_keep_checkpoint_max': 5, '_keep_checkpoint_every_n_hours': 10000, '_log_step_count_steps': 100, '_train_distribute': None, '_device_fn': None, '_protocol': None, '_eval_distribute': None, '_experimental_distribute': None, '_service': None, '_cluster_spec': <tensorflow.python.training.server_lib.ClusterSpec object at 0x7f2207423588>, '_task_type': 'worker', '_task_id': 0, '_global_id_in_cluster': 0, '_master': '', '_evaluation_master': '', '_is_chief': True, '_num_ps_replicas': 0, '_num_worker_replicas': 1}\n"
          ],
          "name": "stdout"
        }
      ]
    },
    {
      "metadata": {
        "id": "WBh6vaiQBGzq",
        "colab_type": "code",
        "colab": {
          "base_uri": "https://localhost:8080/",
          "height": 3797
        },
        "outputId": "4a836a09-fddd-4593-ee62-e6101a11c654"
      },
      "cell_type": "code",
      "source": [
        "def train_input_fn():\n",
        "  \"\"\"Train generator as minibatches\"\"\"\n",
        "  data = {\n",
        "      \"x1\": np.arange(0, 100),\n",
        "      \"x2\": np.arange(100, 300, 2),\n",
        "  }\n",
        "\n",
        "\n",
        "  labels = 2* data[\"x1\"] + 3.5*data[\"x2\"] + 1 + 0.01 * np.random.randn(data[\"x1\"].shape[0])\n",
        "  \n",
        "  return data, labels\n",
        "model.train(train_input_fn, steps=10000)"
      ],
      "execution_count": 15,
      "outputs": [
        {
          "output_type": "stream",
          "text": [
            "INFO:tensorflow:Calling model_fn.\n",
            "INFO:tensorflow:Done calling model_fn.\n",
            "INFO:tensorflow:Create CheckpointSaverHook.\n",
            "INFO:tensorflow:Graph was finalized.\n",
            "INFO:tensorflow:Restoring parameters from outdir/model.ckpt-29000\n",
            "INFO:tensorflow:Running local_init_op.\n",
            "INFO:tensorflow:Done running local_init_op.\n",
            "INFO:tensorflow:Saving checkpoints for 29000 into outdir/model.ckpt.\n",
            "INFO:tensorflow:loss = 6.541973, step = 29001\n",
            "INFO:tensorflow:global_step/sec: 1159.48\n",
            "INFO:tensorflow:loss = 6.5286255, step = 29101 (0.089 sec)\n",
            "INFO:tensorflow:global_step/sec: 1473.7\n",
            "INFO:tensorflow:loss = 6.5173397, step = 29201 (0.068 sec)\n",
            "INFO:tensorflow:global_step/sec: 1492.58\n",
            "INFO:tensorflow:loss = 6.5046873, step = 29301 (0.066 sec)\n",
            "INFO:tensorflow:global_step/sec: 1518.85\n",
            "INFO:tensorflow:loss = 6.492339, step = 29401 (0.066 sec)\n",
            "INFO:tensorflow:global_step/sec: 1495.95\n",
            "INFO:tensorflow:loss = 6.4819303, step = 29501 (0.069 sec)\n",
            "INFO:tensorflow:global_step/sec: 1510.46\n",
            "INFO:tensorflow:loss = 6.470352, step = 29601 (0.063 sec)\n",
            "INFO:tensorflow:global_step/sec: 1504.11\n",
            "INFO:tensorflow:loss = 6.454604, step = 29701 (0.067 sec)\n",
            "INFO:tensorflow:global_step/sec: 1513.34\n",
            "INFO:tensorflow:loss = 6.4393044, step = 29801 (0.066 sec)\n",
            "INFO:tensorflow:global_step/sec: 1490.51\n",
            "INFO:tensorflow:loss = 6.421487, step = 29901 (0.069 sec)\n",
            "INFO:tensorflow:global_step/sec: 1416.38\n",
            "INFO:tensorflow:loss = 6.403562, step = 30001 (0.068 sec)\n",
            "INFO:tensorflow:global_step/sec: 1431.64\n",
            "INFO:tensorflow:loss = 6.3876643, step = 30101 (0.070 sec)\n",
            "INFO:tensorflow:global_step/sec: 1444.07\n",
            "INFO:tensorflow:loss = 6.370418, step = 30201 (0.070 sec)\n",
            "INFO:tensorflow:global_step/sec: 1455.41\n",
            "INFO:tensorflow:loss = 6.3529773, step = 30301 (0.069 sec)\n",
            "INFO:tensorflow:global_step/sec: 1395.5\n",
            "INFO:tensorflow:loss = 6.3371315, step = 30401 (0.072 sec)\n",
            "INFO:tensorflow:global_step/sec: 1395.52\n",
            "INFO:tensorflow:loss = 6.3198047, step = 30501 (0.070 sec)\n",
            "INFO:tensorflow:global_step/sec: 1465.03\n",
            "INFO:tensorflow:loss = 6.304073, step = 30601 (0.068 sec)\n",
            "INFO:tensorflow:global_step/sec: 833.351\n",
            "INFO:tensorflow:loss = 6.286021, step = 30701 (0.119 sec)\n",
            "INFO:tensorflow:global_step/sec: 1385.21\n",
            "INFO:tensorflow:loss = 6.2696896, step = 30801 (0.072 sec)\n",
            "INFO:tensorflow:global_step/sec: 1456.11\n",
            "INFO:tensorflow:loss = 6.2537503, step = 30901 (0.069 sec)\n",
            "INFO:tensorflow:global_step/sec: 1376.28\n",
            "INFO:tensorflow:loss = 6.2360334, step = 31001 (0.073 sec)\n",
            "INFO:tensorflow:global_step/sec: 1418.62\n",
            "INFO:tensorflow:loss = 6.2186575, step = 31101 (0.070 sec)\n",
            "INFO:tensorflow:global_step/sec: 1388.93\n",
            "INFO:tensorflow:loss = 6.2036614, step = 31201 (0.072 sec)\n",
            "INFO:tensorflow:global_step/sec: 1413.95\n",
            "INFO:tensorflow:loss = 6.185871, step = 31301 (0.071 sec)\n",
            "INFO:tensorflow:global_step/sec: 1481.21\n",
            "INFO:tensorflow:loss = 6.168965, step = 31401 (0.067 sec)\n",
            "INFO:tensorflow:global_step/sec: 1507.21\n",
            "INFO:tensorflow:loss = 6.1535406, step = 31501 (0.066 sec)\n",
            "INFO:tensorflow:global_step/sec: 1539.28\n",
            "INFO:tensorflow:loss = 6.1362305, step = 31601 (0.065 sec)\n",
            "INFO:tensorflow:global_step/sec: 1603.92\n",
            "INFO:tensorflow:loss = 6.119316, step = 31701 (0.062 sec)\n",
            "INFO:tensorflow:global_step/sec: 1543.52\n",
            "INFO:tensorflow:loss = 6.103589, step = 31801 (0.065 sec)\n",
            "INFO:tensorflow:global_step/sec: 1572.31\n",
            "INFO:tensorflow:loss = 6.08638, step = 31901 (0.064 sec)\n",
            "INFO:tensorflow:global_step/sec: 1529.76\n",
            "INFO:tensorflow:loss = 6.069117, step = 32001 (0.065 sec)\n",
            "INFO:tensorflow:global_step/sec: 1530.4\n",
            "INFO:tensorflow:loss = 6.0534077, step = 32101 (0.065 sec)\n",
            "INFO:tensorflow:global_step/sec: 1572.04\n",
            "INFO:tensorflow:loss = 6.037201, step = 32201 (0.064 sec)\n",
            "INFO:tensorflow:global_step/sec: 1577.33\n",
            "INFO:tensorflow:loss = 6.019889, step = 32301 (0.063 sec)\n",
            "INFO:tensorflow:global_step/sec: 1553.75\n",
            "INFO:tensorflow:loss = 6.004188, step = 32401 (0.064 sec)\n",
            "INFO:tensorflow:global_step/sec: 1546.17\n",
            "INFO:tensorflow:loss = 5.987928, step = 32501 (0.064 sec)\n",
            "INFO:tensorflow:global_step/sec: 1617.26\n",
            "INFO:tensorflow:loss = 5.9715633, step = 32601 (0.062 sec)\n",
            "INFO:tensorflow:global_step/sec: 1585.98\n",
            "INFO:tensorflow:loss = 5.955449, step = 32701 (0.063 sec)\n",
            "INFO:tensorflow:global_step/sec: 1595.43\n",
            "INFO:tensorflow:loss = 5.938779, step = 32801 (0.063 sec)\n",
            "INFO:tensorflow:global_step/sec: 1591.8\n",
            "INFO:tensorflow:loss = 5.9232464, step = 32901 (0.063 sec)\n",
            "INFO:tensorflow:global_step/sec: 1538.3\n",
            "INFO:tensorflow:loss = 5.906425, step = 33001 (0.065 sec)\n",
            "INFO:tensorflow:global_step/sec: 1568.33\n",
            "INFO:tensorflow:loss = 5.889965, step = 33101 (0.064 sec)\n",
            "INFO:tensorflow:global_step/sec: 1516.03\n",
            "INFO:tensorflow:loss = 5.8746433, step = 33201 (0.066 sec)\n",
            "INFO:tensorflow:global_step/sec: 1570.14\n",
            "INFO:tensorflow:loss = 5.8572435, step = 33301 (0.064 sec)\n",
            "INFO:tensorflow:global_step/sec: 1624.67\n",
            "INFO:tensorflow:loss = 5.840839, step = 33401 (0.061 sec)\n",
            "INFO:tensorflow:global_step/sec: 1551.82\n",
            "INFO:tensorflow:loss = 5.8252225, step = 33501 (0.065 sec)\n",
            "INFO:tensorflow:global_step/sec: 1592.55\n",
            "INFO:tensorflow:loss = 5.8091397, step = 33601 (0.063 sec)\n",
            "INFO:tensorflow:global_step/sec: 1584.54\n",
            "INFO:tensorflow:loss = 5.792526, step = 33701 (0.063 sec)\n",
            "INFO:tensorflow:global_step/sec: 1588.49\n",
            "INFO:tensorflow:loss = 5.777137, step = 33801 (0.063 sec)\n",
            "INFO:tensorflow:global_step/sec: 1580.02\n",
            "INFO:tensorflow:loss = 5.7607665, step = 33901 (0.063 sec)\n",
            "INFO:tensorflow:global_step/sec: 1531.46\n",
            "INFO:tensorflow:loss = 5.7439213, step = 34001 (0.065 sec)\n",
            "INFO:tensorflow:global_step/sec: 1576.88\n",
            "INFO:tensorflow:loss = 5.72897, step = 34101 (0.063 sec)\n",
            "INFO:tensorflow:global_step/sec: 1558.61\n",
            "INFO:tensorflow:loss = 5.7128596, step = 34201 (0.064 sec)\n",
            "INFO:tensorflow:global_step/sec: 1499.07\n",
            "INFO:tensorflow:loss = 5.6959023, step = 34301 (0.067 sec)\n",
            "INFO:tensorflow:global_step/sec: 1555.51\n",
            "INFO:tensorflow:loss = 5.680391, step = 34401 (0.065 sec)\n",
            "INFO:tensorflow:global_step/sec: 1498.31\n",
            "INFO:tensorflow:loss = 5.6649833, step = 34501 (0.066 sec)\n",
            "INFO:tensorflow:global_step/sec: 1578.53\n",
            "INFO:tensorflow:loss = 5.647724, step = 34601 (0.063 sec)\n",
            "INFO:tensorflow:global_step/sec: 1539.22\n",
            "INFO:tensorflow:loss = 5.632783, step = 34701 (0.065 sec)\n",
            "INFO:tensorflow:global_step/sec: 1530.97\n",
            "INFO:tensorflow:loss = 5.616966, step = 34801 (0.065 sec)\n",
            "INFO:tensorflow:global_step/sec: 1456.72\n",
            "INFO:tensorflow:loss = 5.6018796, step = 34901 (0.069 sec)\n",
            "INFO:tensorflow:global_step/sec: 1510.62\n",
            "INFO:tensorflow:loss = 5.5852585, step = 35001 (0.066 sec)\n",
            "INFO:tensorflow:global_step/sec: 1552.34\n",
            "INFO:tensorflow:loss = 5.5693817, step = 35101 (0.064 sec)\n",
            "INFO:tensorflow:global_step/sec: 1531.47\n",
            "INFO:tensorflow:loss = 5.5546465, step = 35201 (0.065 sec)\n",
            "INFO:tensorflow:global_step/sec: 1555.38\n",
            "INFO:tensorflow:loss = 5.5378704, step = 35301 (0.064 sec)\n",
            "INFO:tensorflow:global_step/sec: 1590.58\n",
            "INFO:tensorflow:loss = 5.521359, step = 35401 (0.063 sec)\n",
            "INFO:tensorflow:global_step/sec: 1585.94\n",
            "INFO:tensorflow:loss = 5.5074463, step = 35501 (0.063 sec)\n",
            "INFO:tensorflow:global_step/sec: 1579.32\n",
            "INFO:tensorflow:loss = 5.490878, step = 35601 (0.063 sec)\n",
            "INFO:tensorflow:global_step/sec: 1509.61\n",
            "INFO:tensorflow:loss = 5.474554, step = 35701 (0.066 sec)\n",
            "INFO:tensorflow:global_step/sec: 1563.74\n",
            "INFO:tensorflow:loss = 5.4600782, step = 35801 (0.064 sec)\n",
            "INFO:tensorflow:global_step/sec: 1600.64\n",
            "INFO:tensorflow:loss = 5.44364, step = 35901 (0.066 sec)\n",
            "INFO:tensorflow:global_step/sec: 1542.85\n",
            "INFO:tensorflow:loss = 5.4276557, step = 36001 (0.062 sec)\n",
            "INFO:tensorflow:global_step/sec: 1565.43\n",
            "INFO:tensorflow:loss = 5.413308, step = 36101 (0.064 sec)\n",
            "INFO:tensorflow:global_step/sec: 1555.46\n",
            "INFO:tensorflow:loss = 5.397237, step = 36201 (0.064 sec)\n",
            "INFO:tensorflow:global_step/sec: 1507.59\n",
            "INFO:tensorflow:loss = 5.380672, step = 36301 (0.066 sec)\n",
            "INFO:tensorflow:global_step/sec: 1552.88\n",
            "INFO:tensorflow:loss = 5.3666315, step = 36401 (0.064 sec)\n",
            "INFO:tensorflow:global_step/sec: 1595.62\n",
            "INFO:tensorflow:loss = 5.3508153, step = 36501 (0.063 sec)\n",
            "INFO:tensorflow:global_step/sec: 1564.53\n",
            "INFO:tensorflow:loss = 5.334361, step = 36601 (0.064 sec)\n",
            "INFO:tensorflow:global_step/sec: 1559.02\n",
            "INFO:tensorflow:loss = 5.3198714, step = 36701 (0.064 sec)\n",
            "INFO:tensorflow:global_step/sec: 1442.38\n",
            "INFO:tensorflow:loss = 5.304291, step = 36801 (0.069 sec)\n",
            "INFO:tensorflow:global_step/sec: 1494.44\n",
            "INFO:tensorflow:loss = 5.2883058, step = 36901 (0.067 sec)\n",
            "INFO:tensorflow:global_step/sec: 1557.63\n",
            "INFO:tensorflow:loss = 5.273608, step = 37001 (0.064 sec)\n",
            "INFO:tensorflow:global_step/sec: 1504.53\n",
            "INFO:tensorflow:loss = 5.2579327, step = 37101 (0.066 sec)\n",
            "INFO:tensorflow:global_step/sec: 1575.52\n",
            "INFO:tensorflow:loss = 5.243703, step = 37201 (0.063 sec)\n",
            "INFO:tensorflow:global_step/sec: 1549.19\n",
            "INFO:tensorflow:loss = 5.2278676, step = 37301 (0.065 sec)\n",
            "INFO:tensorflow:global_step/sec: 1571.9\n",
            "INFO:tensorflow:loss = 5.2123413, step = 37401 (0.064 sec)\n",
            "INFO:tensorflow:global_step/sec: 1545.35\n",
            "INFO:tensorflow:loss = 5.1977944, step = 37501 (0.064 sec)\n",
            "INFO:tensorflow:global_step/sec: 1598.89\n",
            "INFO:tensorflow:loss = 5.181471, step = 37601 (0.063 sec)\n",
            "INFO:tensorflow:global_step/sec: 1604.6\n",
            "INFO:tensorflow:loss = 5.1657734, step = 37701 (0.062 sec)\n",
            "INFO:tensorflow:global_step/sec: 1536.73\n",
            "INFO:tensorflow:loss = 5.152274, step = 37801 (0.065 sec)\n",
            "INFO:tensorflow:global_step/sec: 1582.34\n",
            "INFO:tensorflow:loss = 5.1360855, step = 37901 (0.063 sec)\n",
            "INFO:tensorflow:global_step/sec: 1610.15\n",
            "INFO:tensorflow:loss = 5.120398, step = 38001 (0.063 sec)\n",
            "INFO:tensorflow:global_step/sec: 1593.64\n",
            "INFO:tensorflow:loss = 5.1060567, step = 38101 (0.063 sec)\n",
            "INFO:tensorflow:global_step/sec: 1585.28\n",
            "INFO:tensorflow:loss = 5.0907545, step = 38201 (0.063 sec)\n",
            "INFO:tensorflow:global_step/sec: 1573.9\n",
            "INFO:tensorflow:loss = 5.0751815, step = 38301 (0.064 sec)\n",
            "INFO:tensorflow:global_step/sec: 1596.13\n",
            "INFO:tensorflow:loss = 5.061058, step = 38401 (0.062 sec)\n",
            "INFO:tensorflow:global_step/sec: 1409.33\n",
            "INFO:tensorflow:loss = 5.045794, step = 38501 (0.071 sec)\n",
            "INFO:tensorflow:global_step/sec: 1540.1\n",
            "INFO:tensorflow:loss = 5.0298595, step = 38601 (0.065 sec)\n",
            "INFO:tensorflow:global_step/sec: 1578.62\n",
            "INFO:tensorflow:loss = 5.0164247, step = 38701 (0.063 sec)\n",
            "INFO:tensorflow:global_step/sec: 1568.29\n",
            "INFO:tensorflow:loss = 5.0008135, step = 38801 (0.064 sec)\n",
            "INFO:tensorflow:global_step/sec: 1589.53\n",
            "INFO:tensorflow:loss = 4.9852138, step = 38901 (0.063 sec)\n",
            "INFO:tensorflow:Saving checkpoints for 39000 into outdir/model.ckpt.\n",
            "INFO:tensorflow:Loss for final step: 4.970845.\n"
          ],
          "name": "stdout"
        },
        {
          "output_type": "execute_result",
          "data": {
            "text/plain": [
              "<tensorflow.python.estimator.canned.linear.LinearRegressor at 0x7f2207423358>"
            ]
          },
          "metadata": {
            "tags": []
          },
          "execution_count": 15
        }
      ]
    },
    {
      "metadata": {
        "id": "BskcV4XbC3Mh",
        "colab_type": "code",
        "colab": {}
      },
      "cell_type": "code",
      "source": [
        "def predict_input_fn():\n",
        "  \"\"\"Predict generator as minibatches\"\"\"\n",
        "  data = {\n",
        "      \"x1\": np.arange(100, 110, 1),\n",
        "      \"x2\": np.arange(0, 10, 1)\n",
        "  }\n",
        "  \n",
        "  return data\n",
        "\n",
        "predictions = model.predict(predict_input_fn)"
      ],
      "execution_count": 0,
      "outputs": []
    },
    {
      "metadata": {
        "id": "r2teppSVELNp",
        "colab_type": "code",
        "colab": {
          "base_uri": "https://localhost:8080/",
          "height": 271
        },
        "outputId": "89872eaa-ba06-4a81-a5e1-ec096eaa5cef"
      },
      "cell_type": "code",
      "source": [
        "\n",
        "print(predict_input_fn())\n",
        "\n",
        "print(next(predictions))\n",
        "\n",
        "print(next(predictions))\n",
        "print(next(predictions))\n",
        "print(next(predictions))\n",
        "print(next(predictions))"
      ],
      "execution_count": 21,
      "outputs": [
        {
          "output_type": "stream",
          "text": [
            "{'x1': array([100, 101, 102, 103, 104, 105, 106, 107, 108, 109]), 'x2': array([0, 1, 2, 3, 4, 5, 6, 7, 8, 9])}\n",
            "WARNING:tensorflow:Input graph does not use tf.data.Dataset or contain a QueueRunner. That means predict yields forever. This is probably a mistake.\n",
            "INFO:tensorflow:Calling model_fn.\n",
            "INFO:tensorflow:Done calling model_fn.\n",
            "INFO:tensorflow:Graph was finalized.\n",
            "INFO:tensorflow:Restoring parameters from outdir/model.ckpt-39000\n",
            "INFO:tensorflow:Running local_init_op.\n",
            "INFO:tensorflow:Done running local_init_op.\n",
            "{'predictions': array([214.71808], dtype=float32)}\n",
            "{'predictions': array([220.27003], dtype=float32)}\n",
            "{'predictions': array([225.82198], dtype=float32)}\n",
            "{'predictions': array([231.37392], dtype=float32)}\n",
            "{'predictions': array([236.92586], dtype=float32)}\n"
          ],
          "name": "stdout"
        }
      ]
    },
    {
      "metadata": {
        "id": "UPSWjN3WFCD0",
        "colab_type": "code",
        "colab": {}
      },
      "cell_type": "code",
      "source": [
        ""
      ],
      "execution_count": 0,
      "outputs": []
    }
  ]
}