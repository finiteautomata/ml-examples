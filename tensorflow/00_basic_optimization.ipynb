{
 "cells": [
  {
   "cell_type": "markdown",
   "metadata": {},
   "source": [
    "# Optimize function\n",
    "\n",
    "Let's use tensorflow to optimize a simple function"
   ]
  },
  {
   "cell_type": "code",
   "execution_count": 1,
   "metadata": {},
   "outputs": [
    {
     "name": "stderr",
     "output_type": "stream",
     "text": [
      "/home/jmperez/.pyenv/versions/3.6.5/lib/python3.6/importlib/_bootstrap.py:219: RuntimeWarning: compiletime version 3.5 of module 'tensorflow.python.framework.fast_tensor_util' does not match runtime version 3.6\n",
      "  return f(*args, **kwds)\n",
      "/home/jmperez/.pyenv/versions/3.6.5/envs/ml/lib/python3.6/site-packages/h5py/__init__.py:36: FutureWarning: Conversion of the second argument of issubdtype from `float` to `np.floating` is deprecated. In future, it will be treated as `np.float64 == np.dtype(float).type`.\n",
      "  from ._conv import register_converters as _register_converters\n"
     ]
    }
   ],
   "source": [
    "import tensorflow as tf\n",
    "\n",
    "w = tf.Variable(0, dtype=tf.float32)\n",
    "\n",
    "\n",
    "cost = (w - 5) ** 2\n",
    "\n",
    "train = tf.train.GradientDescentOptimizer(0.15).minimize(cost)\n",
    "\n",
    "init = tf.global_variables_initializer()\n",
    "\n",
    "session = tf.Session()\n",
    "session.run(init)\n"
   ]
  },
  {
   "cell_type": "code",
   "execution_count": 2,
   "metadata": {},
   "outputs": [
    {
     "name": "stdout",
     "output_type": "stream",
     "text": [
      "iteration 0 => 1.5\n",
      "iteration 1 => 2.5500001907348633\n",
      "iteration 2 => 3.2850000858306885\n",
      "iteration 3 => 3.799499988555908\n",
      "iteration 4 => 4.159649848937988\n",
      "iteration 5 => 4.411755084991455\n",
      "iteration 6 => 4.588228702545166\n",
      "iteration 7 => 4.7117600440979\n",
      "iteration 8 => 4.798232078552246\n",
      "iteration 9 => 4.858762264251709\n",
      "iteration 10 => 4.9011335372924805\n",
      "iteration 11 => 4.930793285369873\n",
      "iteration 12 => 4.951555252075195\n",
      "iteration 13 => 4.966088771820068\n",
      "iteration 14 => 4.976262092590332\n",
      "iteration 15 => 4.983383655548096\n",
      "iteration 16 => 4.988368511199951\n",
      "iteration 17 => 4.991858005523682\n",
      "iteration 18 => 4.994300842285156\n",
      "iteration 19 => 4.996010780334473\n",
      "iteration 20 => 4.9972076416015625\n",
      "iteration 21 => 4.998045444488525\n",
      "iteration 22 => 4.998631954193115\n",
      "iteration 23 => 4.999042510986328\n",
      "iteration 24 => 4.999329566955566\n",
      "iteration 25 => 4.999530792236328\n",
      "iteration 26 => 4.999671459197998\n",
      "iteration 27 => 4.999770164489746\n",
      "iteration 28 => 4.9998393058776855\n",
      "iteration 29 => 4.999887466430664\n"
     ]
    }
   ],
   "source": [
    "for i in range(30):\n",
    "    session.run(train)\n",
    "    print(\"iteration {} => {}\".format(i, session.run(w)))\n"
   ]
  },
  {
   "cell_type": "markdown",
   "metadata": {},
   "source": [
    "## Optimizing with placeholders"
   ]
  },
  {
   "cell_type": "code",
   "execution_count": 3,
   "metadata": {},
   "outputs": [],
   "source": [
    "import numpy as np\n",
    "\n",
    "coefficients = np.array([[1.], [-10.], [25.]])\n",
    "w = tf.Variable(0, dtype=tf.float32)\n",
    "x = tf.placeholder(tf.float32, [3, 1])\n",
    "\n",
    "# The same function as before, but written with \"training data\"\n",
    "cost = x[0][0] * w ** 2 + x[1][0] * w + x[2][0]\n",
    "\n",
    "init = tf.global_variables_initializer()\n",
    "session = tf.Session()\n",
    "session.run(init)\n",
    "train = tf.train.GradientDescentOptimizer(0.05).minimize(cost)"
   ]
  },
  {
   "cell_type": "code",
   "execution_count": 4,
   "metadata": {},
   "outputs": [
    {
     "name": "stdout",
     "output_type": "stream",
     "text": [
      "iteration 0 => 0.5\n",
      "iteration 1 => 0.9500000476837158\n",
      "iteration 2 => 1.3550000190734863\n",
      "iteration 3 => 1.7195000648498535\n",
      "iteration 4 => 2.0475499629974365\n",
      "iteration 5 => 2.342794895172119\n",
      "iteration 6 => 2.608515501022339\n",
      "iteration 7 => 2.8476638793945312\n",
      "iteration 8 => 3.0628974437713623\n",
      "iteration 9 => 3.2566077709198\n",
      "iteration 10 => 3.4309470653533936\n",
      "iteration 11 => 3.5878524780273438\n",
      "iteration 12 => 3.729067325592041\n",
      "iteration 13 => 3.8561606407165527\n",
      "iteration 14 => 3.9705445766448975\n",
      "iteration 15 => 4.073490142822266\n",
      "iteration 16 => 4.166141033172607\n",
      "iteration 17 => 4.2495269775390625\n",
      "iteration 18 => 4.3245744705200195\n",
      "iteration 19 => 4.392117023468018\n",
      "iteration 20 => 4.452905178070068\n",
      "iteration 21 => 4.507614612579346\n",
      "iteration 22 => 4.556853294372559\n",
      "iteration 23 => 4.601168155670166\n",
      "iteration 24 => 4.641051292419434\n",
      "iteration 25 => 4.67694616317749\n",
      "iteration 26 => 4.709251403808594\n",
      "iteration 27 => 4.738326072692871\n",
      "iteration 28 => 4.764493465423584\n",
      "iteration 29 => 4.788043975830078\n",
      "iteration 30 => 4.809239387512207\n",
      "iteration 31 => 4.828315258026123\n",
      "iteration 32 => 4.845483779907227\n",
      "iteration 33 => 4.860935211181641\n",
      "iteration 34 => 4.874841690063477\n",
      "iteration 35 => 4.887357711791992\n",
      "iteration 36 => 4.898622035980225\n",
      "iteration 37 => 4.908760070800781\n",
      "iteration 38 => 4.91788387298584\n",
      "iteration 39 => 4.926095485687256\n",
      "iteration 40 => 4.933485984802246\n",
      "iteration 41 => 4.9401373863220215\n",
      "iteration 42 => 4.9461236000061035\n",
      "iteration 43 => 4.951511383056641\n",
      "iteration 44 => 4.956360340118408\n",
      "iteration 45 => 4.960724353790283\n",
      "iteration 46 => 4.964652061462402\n",
      "iteration 47 => 4.968186855316162\n",
      "iteration 48 => 4.971368312835693\n",
      "iteration 49 => 4.974231719970703\n"
     ]
    }
   ],
   "source": [
    "for i in range(50):\n",
    "    session.run(train, feed_dict={x: coefficients})\n",
    "    print(\"iteration {} => {}\".format(i, session.run(w)))\n",
    "\n"
   ]
  },
  {
   "cell_type": "code",
   "execution_count": null,
   "metadata": {},
   "outputs": [],
   "source": []
  }
 ],
 "metadata": {
  "kernelspec": {
   "display_name": "Python 3",
   "language": "python",
   "name": "python3"
  },
  "language_info": {
   "codemirror_mode": {
    "name": "ipython",
    "version": 3
   },
   "file_extension": ".py",
   "mimetype": "text/x-python",
   "name": "python",
   "nbconvert_exporter": "python",
   "pygments_lexer": "ipython3",
   "version": "3.6.5"
  }
 },
 "nbformat": 4,
 "nbformat_minor": 2
}
