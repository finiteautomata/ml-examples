{
  "nbformat": 4,
  "nbformat_minor": 0,
  "metadata": {
    "colab": {
      "name": "tf.introduction.ipynb",
      "version": "0.3.2",
      "provenance": [],
      "include_colab_link": true
    },
    "kernelspec": {
      "name": "python3",
      "display_name": "Python 3"
    }
  },
  "cells": [
    {
      "cell_type": "markdown",
      "metadata": {
        "id": "view-in-github",
        "colab_type": "text"
      },
      "source": [
        "<a href=\"https://colab.research.google.com/github/finiteautomata/ml-examples/blob/master/notebooks/tensorflow/low_level_introduction.ipynb\" target=\"_parent\"><img src=\"https://colab.research.google.com/assets/colab-badge.svg\" alt=\"Open In Colab\"/></a>"
      ]
    },
    {
      "metadata": {
        "id": "xfaL_NDPxlOX",
        "colab_type": "text"
      },
      "cell_type": "markdown",
      "source": [
        "# Introduction to TensorFlow\n",
        "\n",
        "Taken [from here](https://www.tensorflow.org/guide/low_level_intro)\n",
        "\n",
        "## Tensor Values\n",
        "\n",
        "The central unit of data in TensorFlow is the tensor. A tensor consists of a set of primitive values shaped into an array of any number of dimensions. A tensor's rank is its number of dimensions, while its shape is a tuple of integers specifying the array's length along each dimension. Here are some examples of tensor values:"
      ]
    },
    {
      "metadata": {
        "id": "ursjjYKuyW-R",
        "colab_type": "code",
        "outputId": "f28cc11b-31e7-4730-e36b-d6694ecb3813",
        "colab": {
          "base_uri": "https://localhost:8080/",
          "height": 35
        }
      },
      "cell_type": "code",
      "source": [
        "3. # a rank 0 tensor; a scalar with shape [],\n",
        "[1., 2., 3.] # a rank 1 tensor; a vector with shape [3]\n",
        "[[1., 2., 3.], [4., 5., 6.]] # a rank 2 tensor; a matrix with shape [2, 3]\n",
        "[[[1., 2., 3.]], [[7., 8., 9.]]] # a rank 3 tensor with shape [2, 1, 3]"
      ],
      "execution_count": 1,
      "outputs": [
        {
          "output_type": "execute_result",
          "data": {
            "text/plain": [
              "[[[1.0, 2.0, 3.0]], [[7.0, 8.0, 9.0]]]"
            ]
          },
          "metadata": {
            "tags": []
          },
          "execution_count": 1
        }
      ]
    },
    {
      "metadata": {
        "id": "MghguC4RyZbu",
        "colab_type": "text"
      },
      "cell_type": "markdown",
      "source": [
        "## TensorFlow Core Walkthrough\n",
        "You might think of TensorFlow Core programs as consisting of two discrete sections:\n",
        "\n",
        "- Building the computational graph (a `tf.Graph`).\n",
        "- Running the computational graph (using a `tf.Session`).\n",
        "\n",
        "## Graph\n",
        "A computational graph is a series of TensorFlow operations arranged into a graph. The graph is composed of two types of objects.\n",
        "\n",
        "- `tf.Operation` (or \"ops\"): The nodes of the graph. Operations describe calculations that consume and produce tensors.\n",
        "- `tf.Tensor`: The edges in the graph. These represent the values that will flow through the graph. Most TensorFlow functions return tf.Tensors.\n"
      ]
    },
    {
      "metadata": {
        "id": "pWofMh4gzIOP",
        "colab_type": "code",
        "outputId": "1afda049-537d-4f1d-afc0-68df109ef9b4",
        "colab": {
          "base_uri": "https://localhost:8080/",
          "height": 71
        }
      },
      "cell_type": "code",
      "source": [
        "\n",
        "import numpy as np\n",
        "import tensorflow as tf\n",
        "\n",
        "a = tf.constant(3.0, dtype=tf.float32)\n",
        "b = tf.constant(4.0) # also tf.float32 implicitly\n",
        "total = a + b\n",
        "print(a)\n",
        "print(b)\n",
        "print(total)"
      ],
      "execution_count": 2,
      "outputs": [
        {
          "output_type": "stream",
          "text": [
            "Tensor(\"Const:0\", shape=(), dtype=float32)\n",
            "Tensor(\"Const_1:0\", shape=(), dtype=float32)\n",
            "Tensor(\"add:0\", shape=(), dtype=float32)\n"
          ],
          "name": "stdout"
        }
      ]
    },
    {
      "metadata": {
        "id": "Uid6m1ky0Qnq",
        "colab_type": "text"
      },
      "cell_type": "markdown",
      "source": [
        "As you can see, it does not print constants 3.0, 4.0, and 7.0, but just `tf.Tensor` objects: these are the computational graphs."
      ]
    },
    {
      "metadata": {
        "id": "EB_Sfqo_0i_Y",
        "colab_type": "text"
      },
      "cell_type": "markdown",
      "source": [
        "## TensorBoard\n",
        "TensorFlow provides a utility called TensorBoard. One of TensorBoard's many capabilities is visualizing a computation graph. You can easily do this with a few simple commands.\n",
        "\n",
        "First you save the computation graph to a TensorBoard summary file as follows:"
      ]
    },
    {
      "metadata": {
        "id": "A2lR3gnn0xA8",
        "colab_type": "code",
        "outputId": "6e1af22c-6127-4445-d485-0311480f17b6",
        "colab": {
          "base_uri": "https://localhost:8080/",
          "height": 107
        }
      },
      "cell_type": "code",
      "source": [
        "!pip install tensorboardcolab\n",
        "\n",
        "from tensorboardcolab import TensorBoardColab\n",
        "\n",
        "tbc = TensorBoardColab()\n"
      ],
      "execution_count": 3,
      "outputs": [
        {
          "output_type": "stream",
          "text": [
            "Requirement already satisfied: tensorboardcolab in /usr/local/lib/python3.6/dist-packages (0.0.22)\n"
          ],
          "name": "stdout"
        },
        {
          "output_type": "stream",
          "text": [
            "Using TensorFlow backend.\n"
          ],
          "name": "stderr"
        },
        {
          "output_type": "stream",
          "text": [
            "Wait for 8 seconds...\n",
            "TensorBoard link:\n",
            "http://00912e05.ngrok.io\n"
          ],
          "name": "stdout"
        }
      ]
    },
    {
      "metadata": {
        "id": "9gukrJhm4lH4",
        "colab_type": "code",
        "colab": {}
      },
      "cell_type": "code",
      "source": [
        "summary_writer = tbc.get_writer()\n",
        "\n",
        "summary_writer.add_graph(tf.get_default_graph())\n",
        "\n",
        "summary_writer.flush()"
      ],
      "execution_count": 0,
      "outputs": []
    },
    {
      "metadata": {
        "id": "CoVf5EJq0xgh",
        "colab_type": "text"
      },
      "cell_type": "markdown",
      "source": [
        "## Session\n",
        "\n",
        "We need sessions to evaluate tensors. A session encapsulates the state of the TensorFlow runtime, and runs TensorFlow operations. If a `tf.Graph` is like a `.py` file, a `tf.Session` is like the python executable."
      ]
    },
    {
      "metadata": {
        "id": "UNDf027T3Y9W",
        "colab_type": "code",
        "outputId": "62c41627-5515-424d-ee19-109fe2e353c3",
        "colab": {
          "base_uri": "https://localhost:8080/",
          "height": 35
        }
      },
      "cell_type": "code",
      "source": [
        "sess = tf.Session()\n",
        "print(sess.run(total))"
      ],
      "execution_count": 5,
      "outputs": [
        {
          "output_type": "stream",
          "text": [
            "7.0\n"
          ],
          "name": "stdout"
        }
      ]
    },
    {
      "metadata": {
        "id": "6D4GlZxT3dk-",
        "colab_type": "text"
      },
      "cell_type": "markdown",
      "source": [
        "During a call to `tf.Session.run` any `tf.Tensor` only has a single value. For example, the following code calls `tf.random_uniform` to produce a `tf.Tensor` that generates a random 3-element vector (with values in [0,1)):\n",
        "\n"
      ]
    },
    {
      "metadata": {
        "id": "sF7_QzvU_yEP",
        "colab_type": "code",
        "colab": {
          "base_uri": "https://localhost:8080/",
          "height": 71
        },
        "outputId": "409fbbbc-0d8f-4e9b-9f6b-c2c8861e788c"
      },
      "cell_type": "code",
      "source": [
        "vec = tf.random_uniform(shape=(3,))\n",
        "out1 = vec + 1\n",
        "out2 = vec + 2\n",
        "print(sess.run(vec))\n",
        "print(sess.run(vec))\n",
        "print(sess.run((out1, out2)))\n",
        "\n",
        "summary_writer.add_graph(tf.get_default_graph())\n",
        "summary_writer.flush()"
      ],
      "execution_count": 6,
      "outputs": [
        {
          "output_type": "stream",
          "text": [
            "[0.5937327 0.6667255 0.8753474]\n",
            "[0.9574045 0.2339592 0.9430821]\n",
            "(array([1.773427 , 1.2733477, 1.3925507], dtype=float32), array([2.773427 , 2.2733479, 2.3925507], dtype=float32))\n"
          ],
          "name": "stdout"
        }
      ]
    },
    {
      "metadata": {
        "id": "KjUGC6ChAA0y",
        "colab_type": "text"
      },
      "cell_type": "markdown",
      "source": [
        "## Placeholders\n",
        "\n",
        "As it stands, the graph is not interesting: we need some way to accept external inputs. These are known as **placeholders** "
      ]
    },
    {
      "metadata": {
        "id": "hIAu8Y8gAJFL",
        "colab_type": "code",
        "colab": {}
      },
      "cell_type": "code",
      "source": [
        "x = tf.placeholder(tf.float32)\n",
        "y = tf.placeholder(tf.float32)\n",
        "z = x + y"
      ],
      "execution_count": 0,
      "outputs": []
    },
    {
      "metadata": {
        "id": "_7KsE5JbBmyJ",
        "colab_type": "code",
        "colab": {}
      },
      "cell_type": "code",
      "source": [
        "summary_writer.add_graph(tf.get_default_graph())\n",
        "summary_writer.flush()"
      ],
      "execution_count": 0,
      "outputs": []
    },
    {
      "metadata": {
        "id": "3m1sLq8_BqwS",
        "colab_type": "text"
      },
      "cell_type": "markdown",
      "source": [
        "This is like defining\n",
        "\n",
        "$$ z(x, y) = x + y $$\n",
        "\n",
        "To evaluate this, we must provide values for $x$ and $y$"
      ]
    },
    {
      "metadata": {
        "id": "eN1wDbUACDNQ",
        "colab_type": "code",
        "colab": {
          "base_uri": "https://localhost:8080/",
          "height": 53
        },
        "outputId": "65145b53-e6ee-4e7d-8610-16cfda8d8bbd"
      },
      "cell_type": "code",
      "source": [
        "print(sess.run(z, feed_dict={x: 3, y: 4.5}))\n",
        "print(sess.run(z, feed_dict={x: [1, 3], y: [2, 4]}))"
      ],
      "execution_count": 9,
      "outputs": [
        {
          "output_type": "stream",
          "text": [
            "7.5\n",
            "[3. 7.]\n"
          ],
          "name": "stdout"
        }
      ]
    },
    {
      "metadata": {
        "id": "8xY_VppCCe-I",
        "colab_type": "text"
      },
      "cell_type": "markdown",
      "source": [
        "Mmmm, as we can see, we could provide data of any dimension\n",
        "\n",
        "The only difference between placeholders and other tf.Tensors is that placeholders throw an error if no value is fed to them."
      ]
    },
    {
      "metadata": {
        "id": "Tnt0GYSxCwyp",
        "colab_type": "text"
      },
      "cell_type": "markdown",
      "source": [
        "## Datasets\n",
        "\n",
        "Placeholders work for simple experiments, but tf.data are the preferred method of streaming data into a model.\n",
        "\n",
        "To get a runnable `tf.Tensor` from a `Dataset` you need first to convert it to an `Iterator`."
      ]
    },
    {
      "metadata": {
        "id": "4IFk_d_VEMzG",
        "colab_type": "code",
        "colab": {}
      },
      "cell_type": "code",
      "source": [
        "my_data = [\n",
        "    [0, 1,],\n",
        "    [2, 3,],\n",
        "    [4, 5,],\n",
        "    [6, 7,],\n",
        "]\n",
        "slices = tf.data.Dataset.from_tensor_slices(my_data)\n",
        "next_item = slices.make_one_shot_iterator().get_next()"
      ],
      "execution_count": 0,
      "outputs": []
    },
    {
      "metadata": {
        "id": "U0EUlUZ8ENIc",
        "colab_type": "code",
        "colab": {}
      },
      "cell_type": "code",
      "source": [
        "\n",
        "\n",
        "summary_writer.add_graph(tf.get_default_graph())\n",
        "summary_writer.flush()"
      ],
      "execution_count": 0,
      "outputs": []
    },
    {
      "metadata": {
        "id": "bTwhxZk-E6en",
        "colab_type": "text"
      },
      "cell_type": "markdown",
      "source": [
        "We can call `next_item` until it raises `tf.errors.OutOfRangeError`"
      ]
    },
    {
      "metadata": {
        "id": "0ADmnLGAEn8I",
        "colab_type": "code",
        "colab": {
          "base_uri": "https://localhost:8080/",
          "height": 89
        },
        "outputId": "99d055d7-7657-4162-bf88-4d0deaaf0d1d"
      },
      "cell_type": "code",
      "source": [
        "while True:\n",
        "  try:\n",
        "    print(sess.run(next_item))\n",
        "  except tf.errors.OutOfRangeError:\n",
        "    break"
      ],
      "execution_count": 12,
      "outputs": [
        {
          "output_type": "stream",
          "text": [
            "[0 1]\n",
            "[2 3]\n",
            "[4 5]\n",
            "[6 7]\n"
          ],
          "name": "stdout"
        }
      ]
    },
    {
      "metadata": {
        "id": "HsKBPgQuExqN",
        "colab_type": "text"
      },
      "cell_type": "markdown",
      "source": [
        "If the dataset depends on stateful operations, we need to initialize it first"
      ]
    },
    {
      "metadata": {
        "id": "BBAkoj4nJJsY",
        "colab_type": "code",
        "colab": {
          "base_uri": "https://localhost:8080/",
          "height": 197
        },
        "outputId": "5ade382c-4dcf-403f-af28-b8ba139b8532"
      },
      "cell_type": "code",
      "source": [
        "r = tf.random_normal([10,3])\n",
        "dataset = tf.data.Dataset.from_tensor_slices(r)\n",
        "iterator = dataset.make_initializable_iterator()\n",
        "next_row = iterator.get_next()\n",
        "\n",
        "sess.run(iterator.initializer)\n",
        "while True:\n",
        "  try:\n",
        "    print(sess.run(next_row))\n",
        "  except tf.errors.OutOfRangeError:\n",
        "    break"
      ],
      "execution_count": 13,
      "outputs": [
        {
          "output_type": "stream",
          "text": [
            "[-2.0293903   0.33965522 -1.0952375 ]\n",
            "[-0.221313  -0.9814494 -1.80212  ]\n",
            "[ 0.5486614  1.8664402 -1.2439016]\n",
            "[-1.3527572   0.26240706 -1.1845875 ]\n",
            "[ 0.78239065 -0.510512   -1.6641259 ]\n",
            "[-0.90511626 -0.20295154  2.3680062 ]\n",
            "[-0.14922859  0.31022593 -0.82432693]\n",
            "[-0.48443475 -0.6864904   0.28561288]\n",
            "[ 1.371163  -1.5768971  0.5658019]\n",
            "[ 0.0979891 -2.3049946 -1.5383164]\n"
          ],
          "name": "stdout"
        }
      ]
    },
    {
      "metadata": {
        "id": "qYHFSaArJL3C",
        "colab_type": "text"
      },
      "cell_type": "markdown",
      "source": [
        "## Layers\n",
        "\n",
        "Layers are the way to add trainable parameters to our computation graph. They encapsulate both the variables and the operations. For example, a `densely-connected layer` performs a weighted sum and then applies an activation function on it. The layer weights and biases are managed by the layer object\n",
        "\n",
        "The following code creates a `tf.layers.Dense` layer that takes a batch of input vectors, and produce a single output for each of them"
      ]
    },
    {
      "metadata": {
        "id": "tdc7PmumMNYB",
        "colab_type": "code",
        "colab": {}
      },
      "cell_type": "code",
      "source": [
        "x = tf.placeholder(tf.float32, shape=[None, 3])\n",
        "linear_model = tf.layers.Dense(units=1)\n",
        "y = linear_model(x)\n",
        "\n",
        "\n",
        "summary_writer.add_graph(tf.get_default_graph())\n",
        "summary_writer.flush()\n"
      ],
      "execution_count": 0,
      "outputs": []
    },
    {
      "metadata": {
        "id": "BS8oDnEeMo_k",
        "colab_type": "text"
      },
      "cell_type": "markdown",
      "source": [
        "Here, the `None` means that this dimension is `dynamic`: it will accept tensors of shape $d \\times 3$, for some $d$\n",
        "\n",
        "Also, `units=1` means that it will return a single value. \n",
        "\n",
        "Layers contain internal variables that need to be initialized. While this can be done one by one, an easier way to do this is as follows:"
      ]
    },
    {
      "metadata": {
        "id": "uetZF5cbU6ui",
        "colab_type": "code",
        "colab": {}
      },
      "cell_type": "code",
      "source": [
        "\n",
        "init = tf.global_variables_initializer()\n",
        "sess.run(init)"
      ],
      "execution_count": 0,
      "outputs": []
    },
    {
      "metadata": {
        "id": "czbATtPaVCR-",
        "colab_type": "text"
      },
      "cell_type": "markdown",
      "source": [
        "**Important**: Calling tf.global_variables_initializer only creates and returns a handle to a TensorFlow operation. That op will initialize all the global variables when we run it with tf.Session.run."
      ]
    },
    {
      "metadata": {
        "id": "dSFUwo03sg0C",
        "colab_type": "code",
        "colab": {
          "base_uri": "https://localhost:8080/",
          "height": 35
        },
        "outputId": "5df54391-6a53-4583-e579-61a7ebc9ec65"
      },
      "cell_type": "code",
      "source": [
        "sess.run(y, {x: [[1, 1, 1]]})"
      ],
      "execution_count": 16,
      "outputs": [
        {
          "output_type": "execute_result",
          "data": {
            "text/plain": [
              "array([[-1.7966515]], dtype=float32)"
            ]
          },
          "metadata": {
            "tags": []
          },
          "execution_count": 16
        }
      ]
    },
    {
      "metadata": {
        "id": "9hbj9AgGq3NU",
        "colab_type": "text"
      },
      "cell_type": "markdown",
      "source": [
        "## Layer shortcuts\n",
        "\n",
        "We can also write this in a more succint way:"
      ]
    },
    {
      "metadata": {
        "id": "wiSYwqSKscFq",
        "colab_type": "code",
        "colab": {
          "base_uri": "https://localhost:8080/",
          "height": 53
        },
        "outputId": "5368da92-c14d-4bb7-ce89-40cac85d8ce6"
      },
      "cell_type": "code",
      "source": [
        "x = tf.placeholder(tf.float32, shape=[None, 3])\n",
        "y = tf.layers.dense(x, units=1)\n",
        "\n",
        "init = tf.global_variables_initializer()\n",
        "sess.run(init)\n",
        "\n",
        "print(sess.run(y, {x: [[1, 2, 3], [4, 5, 6]]}))"
      ],
      "execution_count": 17,
      "outputs": [
        {
          "output_type": "stream",
          "text": [
            "[[1.5801585]\n",
            " [3.7080307]]\n"
          ],
          "name": "stdout"
        }
      ]
    },
    {
      "metadata": {
        "id": "J94YtYhawDPR",
        "colab_type": "text"
      },
      "cell_type": "markdown",
      "source": [
        "## Training\n",
        "\n",
        "Let's first define some data"
      ]
    },
    {
      "metadata": {
        "id": "sFupF4VNzSIH",
        "colab_type": "code",
        "colab": {}
      },
      "cell_type": "code",
      "source": [
        "x = tf.constant([[1], [2], [3], [4]], dtype=tf.float32)\n",
        "y_true = tf.constant([[0], [-1], [-2], [-3]], dtype=tf.float32)\n"
      ],
      "execution_count": 0,
      "outputs": []
    },
    {
      "metadata": {
        "id": "IZB0zbLmzT3W",
        "colab_type": "text"
      },
      "cell_type": "markdown",
      "source": [
        "Now define the model"
      ]
    },
    {
      "metadata": {
        "id": "IxUNbZgFzZNH",
        "colab_type": "code",
        "colab": {
          "base_uri": "https://localhost:8080/",
          "height": 89
        },
        "outputId": "17e581a7-d5b6-4c68-c73b-6560bdbed547"
      },
      "cell_type": "code",
      "source": [
        "linear_model = tf.layers.Dense(units=1)\n",
        "\n",
        "y_pred = linear_model(x)\n",
        "\n",
        "\n",
        "sess = tf.Session()\n",
        "init = tf.global_variables_initializer()\n",
        "sess.run(init)\n",
        "\n",
        "print(sess.run(y_pred))"
      ],
      "execution_count": 19,
      "outputs": [
        {
          "output_type": "stream",
          "text": [
            "[[0.32088196]\n",
            " [0.6417639 ]\n",
            " [0.9626459 ]\n",
            " [1.2835279 ]]\n"
          ],
          "name": "stdout"
        }
      ]
    },
    {
      "metadata": {
        "id": "IHBLEldmzfXi",
        "colab_type": "text"
      },
      "cell_type": "markdown",
      "source": [
        "Let's define the loss. We will use MSE"
      ]
    },
    {
      "metadata": {
        "id": "VZEwR0bHzr1v",
        "colab_type": "code",
        "colab": {
          "base_uri": "https://localhost:8080/",
          "height": 35
        },
        "outputId": "59727251-d3d3-40a9-e5c9-f8b3c242f62b"
      },
      "cell_type": "code",
      "source": [
        "loss = tf.losses.mean_squared_error(labels=y_true, predictions=y_pred)\n",
        "\n",
        "print(sess.run(loss))"
      ],
      "execution_count": 20,
      "outputs": [
        {
          "output_type": "stream",
          "text": [
            "7.481059\n"
          ],
          "name": "stdout"
        }
      ]
    },
    {
      "metadata": {
        "id": "6uB-XzSQ2kwX",
        "colab_type": "text"
      },
      "cell_type": "markdown",
      "source": [
        "### Optimizer\n",
        "\n",
        "Use Gradient Descent with LR=0.01 to optimize our loss function.\n",
        "\n",
        "Since train is an op, not a tensor, it doesn't return a value when run. To see the progression of the loss during training, we run the loss tensor at the same time, producing output like the following:"
      ]
    },
    {
      "metadata": {
        "id": "Cjoq1kbI1PQR",
        "colab_type": "code",
        "colab": {
          "base_uri": "https://localhost:8080/",
          "height": 1817
        },
        "outputId": "e22e7c83-58e0-4e98-c588-4b936e4eb36c"
      },
      "cell_type": "code",
      "source": [
        "optimizer = tf.train.GradientDescentOptimizer(0.01)\n",
        "train = optimizer.minimize(loss)\n",
        "\n",
        "\n",
        "summary_writer.add_graph(tf.get_default_graph())\n",
        "\n",
        "summary_writer.flush()\n",
        "\n",
        "for i in range(100):\n",
        "  _, loss_value = sess.run((train, loss))\n",
        "  print(\"Loss function - iter {} : {:.3f}\".format(i, loss_value))"
      ],
      "execution_count": 22,
      "outputs": [
        {
          "output_type": "stream",
          "text": [
            "Loss function - iter 0 : 0.155\n",
            "Loss function - iter 1 : 0.154\n",
            "Loss function - iter 2 : 0.153\n",
            "Loss function - iter 3 : 0.152\n",
            "Loss function - iter 4 : 0.151\n",
            "Loss function - iter 5 : 0.150\n",
            "Loss function - iter 6 : 0.149\n",
            "Loss function - iter 7 : 0.148\n",
            "Loss function - iter 8 : 0.147\n",
            "Loss function - iter 9 : 0.147\n",
            "Loss function - iter 10 : 0.146\n",
            "Loss function - iter 11 : 0.145\n",
            "Loss function - iter 12 : 0.144\n",
            "Loss function - iter 13 : 0.143\n",
            "Loss function - iter 14 : 0.142\n",
            "Loss function - iter 15 : 0.141\n",
            "Loss function - iter 16 : 0.141\n",
            "Loss function - iter 17 : 0.140\n",
            "Loss function - iter 18 : 0.139\n",
            "Loss function - iter 19 : 0.138\n",
            "Loss function - iter 20 : 0.137\n",
            "Loss function - iter 21 : 0.136\n",
            "Loss function - iter 22 : 0.136\n",
            "Loss function - iter 23 : 0.135\n",
            "Loss function - iter 24 : 0.134\n",
            "Loss function - iter 25 : 0.133\n",
            "Loss function - iter 26 : 0.132\n",
            "Loss function - iter 27 : 0.132\n",
            "Loss function - iter 28 : 0.131\n",
            "Loss function - iter 29 : 0.130\n",
            "Loss function - iter 30 : 0.129\n",
            "Loss function - iter 31 : 0.128\n",
            "Loss function - iter 32 : 0.128\n",
            "Loss function - iter 33 : 0.127\n",
            "Loss function - iter 34 : 0.126\n",
            "Loss function - iter 35 : 0.125\n",
            "Loss function - iter 36 : 0.125\n",
            "Loss function - iter 37 : 0.124\n",
            "Loss function - iter 38 : 0.123\n",
            "Loss function - iter 39 : 0.122\n",
            "Loss function - iter 40 : 0.122\n",
            "Loss function - iter 41 : 0.121\n",
            "Loss function - iter 42 : 0.120\n",
            "Loss function - iter 43 : 0.120\n",
            "Loss function - iter 44 : 0.119\n",
            "Loss function - iter 45 : 0.118\n",
            "Loss function - iter 46 : 0.117\n",
            "Loss function - iter 47 : 0.117\n",
            "Loss function - iter 48 : 0.116\n",
            "Loss function - iter 49 : 0.115\n",
            "Loss function - iter 50 : 0.115\n",
            "Loss function - iter 51 : 0.114\n",
            "Loss function - iter 52 : 0.113\n",
            "Loss function - iter 53 : 0.113\n",
            "Loss function - iter 54 : 0.112\n",
            "Loss function - iter 55 : 0.111\n",
            "Loss function - iter 56 : 0.111\n",
            "Loss function - iter 57 : 0.110\n",
            "Loss function - iter 58 : 0.109\n",
            "Loss function - iter 59 : 0.109\n",
            "Loss function - iter 60 : 0.108\n",
            "Loss function - iter 61 : 0.107\n",
            "Loss function - iter 62 : 0.107\n",
            "Loss function - iter 63 : 0.106\n",
            "Loss function - iter 64 : 0.105\n",
            "Loss function - iter 65 : 0.105\n",
            "Loss function - iter 66 : 0.104\n",
            "Loss function - iter 67 : 0.104\n",
            "Loss function - iter 68 : 0.103\n",
            "Loss function - iter 69 : 0.102\n",
            "Loss function - iter 70 : 0.102\n",
            "Loss function - iter 71 : 0.101\n",
            "Loss function - iter 72 : 0.100\n",
            "Loss function - iter 73 : 0.100\n",
            "Loss function - iter 74 : 0.099\n",
            "Loss function - iter 75 : 0.099\n",
            "Loss function - iter 76 : 0.098\n",
            "Loss function - iter 77 : 0.097\n",
            "Loss function - iter 78 : 0.097\n",
            "Loss function - iter 79 : 0.096\n",
            "Loss function - iter 80 : 0.096\n",
            "Loss function - iter 81 : 0.095\n",
            "Loss function - iter 82 : 0.095\n",
            "Loss function - iter 83 : 0.094\n",
            "Loss function - iter 84 : 0.093\n",
            "Loss function - iter 85 : 0.093\n",
            "Loss function - iter 86 : 0.092\n",
            "Loss function - iter 87 : 0.092\n",
            "Loss function - iter 88 : 0.091\n",
            "Loss function - iter 89 : 0.091\n",
            "Loss function - iter 90 : 0.090\n",
            "Loss function - iter 91 : 0.090\n",
            "Loss function - iter 92 : 0.089\n",
            "Loss function - iter 93 : 0.089\n",
            "Loss function - iter 94 : 0.088\n",
            "Loss function - iter 95 : 0.088\n",
            "Loss function - iter 96 : 0.087\n",
            "Loss function - iter 97 : 0.086\n",
            "Loss function - iter 98 : 0.086\n",
            "Loss function - iter 99 : 0.085\n"
          ],
          "name": "stdout"
        }
      ]
    },
    {
      "metadata": {
        "id": "h45KgesU2q01",
        "colab_type": "code",
        "colab": {}
      },
      "cell_type": "code",
      "source": [
        ""
      ],
      "execution_count": 0,
      "outputs": []
    }
  ]
}