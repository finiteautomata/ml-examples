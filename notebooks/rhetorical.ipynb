{
 "cells": [
  {
   "cell_type": "markdown",
   "metadata": {},
   "source": [
    "# Classifier comparison\n",
    "\n",
    "Let's compare the performance of the different classifiers.\n",
    "\n",
    "In the `folds` dictionary we have the results of the score (is it ROC AUC?) for each fold of the 10-fold cross validation. We will use statistical tests to assess whether there is a significant difference in one of them.\n"
   ]
  },
  {
   "cell_type": "code",
   "execution_count": 1,
   "metadata": {
    "collapsed": true
   },
   "outputs": [],
   "source": [
    "from scipy import stats\n",
    "\n",
    "folds = {\n",
    "    \"f0_i0_sr\" : [\n",
    "        31.272509,\n",
    "        33.193277,\n",
    "        27.85114,\n",
    "        30.552221,\n",
    "        31.512605,\n",
    "        30.612245,\n",
    "        30.792317,\n",
    "        29.711885,\n",
    "        32.232893,\n",
    "        30.630631\n",
    "    ],\n",
    "    \"i0\" : [\n",
    "        29.471789,\n",
    "        29.951981,\n",
    "        31.212485,\n",
    "        28.631453,\n",
    "        30.972389,\n",
    "        29.351741,\n",
    "        30.372149,\n",
    "        28.391357,\n",
    "        28.091236,\n",
    "        31.111111,\n",
    "    ],\n",
    "\n",
    "    \"i0_f0\" : [ \n",
    "        30.492197,\n",
    "        30.372149,\n",
    "        29.951981,\n",
    "        30.792317,\n",
    "        30.552221,\n",
    "        30.912365,\n",
    "        28.691477,\n",
    "        28.631453,\n",
    "        31.711712,\n",
    "    ],\n",
    "\n",
    "    \"i0_sr\" : [\n",
    "        32.172869,\n",
    "        32.533013,\n",
    "        30.372149,\n",
    "        31.572629,\n",
    "        31.872749,\n",
    "        30.312125,\n",
    "        30.252101,\n",
    "        30.072029,\n",
    "        31.932773,\n",
    "        30.21021,\n",
    "    ]\n",
    "}\n"
   ]
  },
  {
   "cell_type": "markdown",
   "metadata": {},
   "source": [
    "# Tests estadísticos\n",
    "\n",
    "Veamos dos posibilidades:\n",
    "\n",
    "- Usar One Way Anova: ¿se cumplen las asunciones? (normalidad de los errores, igualdad de varianzas, etc)\n",
    "- Usar One Way Anova no paramétrico: Kruskal Wallis (acá sólo se asume lo de igualdad de varianzas)"
   ]
  },
  {
   "cell_type": "code",
   "execution_count": 2,
   "metadata": {
    "collapsed": false
   },
   "outputs": [
    {
     "name": "stdout",
     "output_type": "stream",
     "text": [
      "Help on function f_oneway in module scipy.stats.stats:\n",
      "\n",
      "f_oneway(*args)\n",
      "    Performs a 1-way ANOVA.\n",
      "    \n",
      "    The one-way ANOVA tests the null hypothesis that two or more groups have\n",
      "    the same population mean.  The test is applied to samples from two or\n",
      "    more groups, possibly with differing sizes.\n",
      "    \n",
      "    Parameters\n",
      "    ----------\n",
      "    sample1, sample2, ... : array_like\n",
      "        The sample measurements for each group.\n",
      "    \n",
      "    Returns\n",
      "    -------\n",
      "    statistic : float\n",
      "        The computed F-value of the test.\n",
      "    pvalue : float\n",
      "        The associated p-value from the F-distribution.\n",
      "    \n",
      "    Notes\n",
      "    -----\n",
      "    The ANOVA test has important assumptions that must be satisfied in order\n",
      "    for the associated p-value to be valid.\n",
      "    \n",
      "    1. The samples are independent.\n",
      "    2. Each sample is from a normally distributed population.\n",
      "    3. The population standard deviations of the groups are all equal.  This\n",
      "       property is known as homoscedasticity.\n",
      "    \n",
      "    If these assumptions are not true for a given set of data, it may still be\n",
      "    possible to use the Kruskal-Wallis H-test (`scipy.stats.kruskal`) although\n",
      "    with some loss of power.\n",
      "    \n",
      "    The algorithm is from Heiman[2], pp.394-7.\n",
      "    \n",
      "    \n",
      "    References\n",
      "    ----------\n",
      "    .. [1] Lowry, Richard.  \"Concepts and Applications of Inferential\n",
      "           Statistics\". Chapter 14.\n",
      "           http://faculty.vassar.edu/lowry/ch14pt1.html\n",
      "    \n",
      "    .. [2] Heiman, G.W.  Research Methods in Statistics. 2002.\n",
      "    \n",
      "    .. [3] McDonald, G. H. \"Handbook of Biological Statistics\", One-way ANOVA.\n",
      "           http://www.biostathandbook.com/onewayanova.html\n",
      "    \n",
      "    Examples\n",
      "    --------\n",
      "    >>> import scipy.stats as stats\n",
      "    \n",
      "    [3]_ Here are some data on a shell measurement (the length of the anterior\n",
      "    adductor muscle scar, standardized by dividing by length) in the mussel\n",
      "    Mytilus trossulus from five locations: Tillamook, Oregon; Newport, Oregon;\n",
      "    Petersburg, Alaska; Magadan, Russia; and Tvarminne, Finland, taken from a\n",
      "    much larger data set used in McDonald et al. (1991).\n",
      "    \n",
      "    >>> tillamook = [0.0571, 0.0813, 0.0831, 0.0976, 0.0817, 0.0859, 0.0735,\n",
      "    ...              0.0659, 0.0923, 0.0836]\n",
      "    >>> newport = [0.0873, 0.0662, 0.0672, 0.0819, 0.0749, 0.0649, 0.0835,\n",
      "    ...            0.0725]\n",
      "    >>> petersburg = [0.0974, 0.1352, 0.0817, 0.1016, 0.0968, 0.1064, 0.105]\n",
      "    >>> magadan = [0.1033, 0.0915, 0.0781, 0.0685, 0.0677, 0.0697, 0.0764,\n",
      "    ...            0.0689]\n",
      "    >>> tvarminne = [0.0703, 0.1026, 0.0956, 0.0973, 0.1039, 0.1045]\n",
      "    >>> stats.f_oneway(tillamook, newport, petersburg, magadan, tvarminne)\n",
      "    (7.1210194716424473, 0.00028122423145345439)\n",
      "\n"
     ]
    }
   ],
   "source": [
    "help(stats.f_oneway)\n"
   ]
  },
  {
   "cell_type": "code",
   "execution_count": 3,
   "metadata": {
    "collapsed": false
   },
   "outputs": [
    {
     "name": "stdout",
     "output_type": "stream",
     "text": [
      "Help on function kruskal in module scipy.stats.stats:\n",
      "\n",
      "kruskal(*args, **kwargs)\n",
      "    Compute the Kruskal-Wallis H-test for independent samples\n",
      "    \n",
      "    The Kruskal-Wallis H-test tests the null hypothesis that the population\n",
      "    median of all of the groups are equal.  It is a non-parametric version of\n",
      "    ANOVA.  The test works on 2 or more independent samples, which may have\n",
      "    different sizes.  Note that rejecting the null hypothesis does not\n",
      "    indicate which of the groups differs.  Post-hoc comparisons between\n",
      "    groups are required to determine which groups are different.\n",
      "    \n",
      "    Parameters\n",
      "    ----------\n",
      "    sample1, sample2, ... : array_like\n",
      "       Two or more arrays with the sample measurements can be given as\n",
      "       arguments.\n",
      "    nan_policy : {'propagate', 'raise', 'omit'}, optional\n",
      "        Defines how to handle when input contains nan. 'propagate' returns nan,\n",
      "        'raise' throws an error, 'omit' performs the calculations ignoring nan\n",
      "        values. Default is 'propagate'.\n",
      "    \n",
      "    Returns\n",
      "    -------\n",
      "    statistic : float\n",
      "       The Kruskal-Wallis H statistic, corrected for ties\n",
      "    pvalue : float\n",
      "       The p-value for the test using the assumption that H has a chi\n",
      "       square distribution\n",
      "    \n",
      "    See Also\n",
      "    --------\n",
      "    f_oneway : 1-way ANOVA\n",
      "    mannwhitneyu : Mann-Whitney rank test on two samples.\n",
      "    friedmanchisquare : Friedman test for repeated measurements\n",
      "    \n",
      "    Notes\n",
      "    -----\n",
      "    Due to the assumption that H has a chi square distribution, the number\n",
      "    of samples in each group must not be too small.  A typical rule is\n",
      "    that each sample must have at least 5 measurements.\n",
      "    \n",
      "    References\n",
      "    ----------\n",
      "    .. [1] W. H. Kruskal & W. W. Wallis, \"Use of Ranks in\n",
      "       One-Criterion Variance Analysis\", Journal of the American Statistical\n",
      "       Association, Vol. 47, Issue 260, pp. 583-621, 1952.\n",
      "    .. [2] http://en.wikipedia.org/wiki/Kruskal-Wallis_one-way_analysis_of_variance\n",
      "    \n",
      "    Examples\n",
      "    --------\n",
      "    >>> from scipy import stats\n",
      "    >>> x = [1, 3, 5, 7, 9]\n",
      "    >>> y = [2, 4, 6, 8, 10]\n",
      "    >>> stats.kruskal(x, y)\n",
      "    KruskalResult(statistic=0.27272727272727337, pvalue=0.60150813444058948)\n",
      "    \n",
      "    >>> x = [1, 1, 1]\n",
      "    >>> y = [2, 2, 2]\n",
      "    >>> z = [2, 2]\n",
      "    >>> stats.kruskal(x, y, z)\n",
      "    KruskalResult(statistic=7.0, pvalue=0.030197383422318501)\n",
      "\n"
     ]
    }
   ],
   "source": [
    "help(stats.kruskal)"
   ]
  },
  {
   "cell_type": "code",
   "execution_count": 4,
   "metadata": {
    "collapsed": false
   },
   "outputs": [
    {
     "name": "stdout",
     "output_type": "stream",
     "text": [
      "Comparing ['i0', 'i0_sr', 'f0_i0_sr', 'i0_f0']\n"
     ]
    },
    {
     "data": {
      "text/plain": [
       "KruskalResult(statistic=6.1450612281649661, pvalue=0.10476205937416561)"
      ]
     },
     "execution_count": 4,
     "metadata": {},
     "output_type": "execute_result"
    }
   ],
   "source": [
    "print(\"Comparing {}\".format(folds.keys()))\n",
    "stats.kruskal(*folds.values())"
   ]
  },
  {
   "cell_type": "code",
   "execution_count": 5,
   "metadata": {
    "collapsed": false
   },
   "outputs": [
    {
     "name": "stdout",
     "output_type": "stream",
     "text": [
      "Comparing ['i0', 'i0_sr', 'f0_i0_sr', 'i0_f0']\n"
     ]
    },
    {
     "data": {
      "text/plain": [
       "F_onewayResult(statistic=2.7932093521527301, pvalue=0.054636757342817123)"
      ]
     },
     "execution_count": 5,
     "metadata": {},
     "output_type": "execute_result"
    }
   ],
   "source": [
    "print(\"Comparing {}\".format(folds.keys()))\n",
    "\n",
    "stats.f_oneway(*folds.values())"
   ]
  },
  {
   "cell_type": "markdown",
   "metadata": {},
   "source": [
    "There is no evidence these classifiers perform differently with $p \\leq 0.05$ for none of the above tests"
   ]
  },
  {
   "cell_type": "markdown",
   "metadata": {},
   "source": [
    "# Incremental comparison\n",
    "\n",
    "Let's start with $I$ and add variables one by one, checking if that makes a significant difference.\n",
    "\n",
    "As we can see, adding $SR$ to $I$ increments significantly the accuracy of the classifier ($p=0.0116$). Adding $F_0$ to $I + SR$ doesn't change it significantly."
   ]
  },
  {
   "cell_type": "code",
   "execution_count": 44,
   "metadata": {
    "collapsed": false
   },
   "outputs": [
    {
     "name": "stdout",
     "output_type": "stream",
     "text": [
      "10\n",
      "10\n",
      "10\n",
      "9\n"
     ]
    }
   ],
   "source": [
    "for k, v in folds.iteritems():\n",
    "    \n",
    "    print len(v)"
   ]
  },
  {
   "cell_type": "code",
   "execution_count": 46,
   "metadata": {
    "collapsed": false
   },
   "outputs": [
    {
     "name": "stdout",
     "output_type": "stream",
     "text": [
      "Comparing i0 with i0_sr pval = 0.0116451174645\n",
      "Comparing i0 with i0_f0 pval = 0.206800512526\n",
      "Comparing i0_sr with f0_i0_sr pval = 0.484924988497\n"
     ]
    }
   ],
   "source": [
    "\n",
    "def compare(k1, k2):\n",
    "    \n",
    "    pval = stats.mannwhitneyu(folds[k1], folds[k2]).pvalue\n",
    "    print(\"Comparing {} with {} pval = {}\".format(k1, k2, pval))\n",
    "    \n",
    "compare(\"i0\", \"i0_sr\")\n",
    "compare(\"i0\", \"i0_f0\")\n",
    "compare(\"i0_sr\", \"f0_i0_sr\")"
   ]
  },
  {
   "cell_type": "code",
   "execution_count": null,
   "metadata": {
    "collapsed": true
   },
   "outputs": [],
   "source": []
  }
 ],
 "metadata": {
  "kernelspec": {
   "display_name": "Python 2",
   "language": "python",
   "name": "python2"
  },
  "language_info": {
   "codemirror_mode": {
    "name": "ipython",
    "version": 2
   },
   "file_extension": ".py",
   "mimetype": "text/x-python",
   "name": "python",
   "nbconvert_exporter": "python",
   "pygments_lexer": "ipython2",
   "version": "2.7.12"
  }
 },
 "nbformat": 4,
 "nbformat_minor": 1
}
