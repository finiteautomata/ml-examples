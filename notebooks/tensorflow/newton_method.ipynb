{
  "nbformat": 4,
  "nbformat_minor": 0,
  "metadata": {
    "colab": {
      "name": "newton_method.ipynb",
      "version": "0.3.2",
      "provenance": [],
      "collapsed_sections": [],
      "include_colab_link": true
    },
    "kernelspec": {
      "name": "python3",
      "display_name": "Python 3"
    }
  },
  "cells": [
    {
      "cell_type": "markdown",
      "metadata": {
        "id": "view-in-github",
        "colab_type": "text"
      },
      "source": [
        "<a href=\"https://colab.research.google.com/github/finiteautomata/ml-examples/blob/master/notebooks/tensorflow/newton_method.ipynb\" target=\"_parent\"><img src=\"https://colab.research.google.com/assets/colab-badge.svg\" alt=\"Open In Colab\"/></a>"
      ]
    },
    {
      "metadata": {
        "id": "mLiWcDWwSaHM",
        "colab_type": "text"
      },
      "cell_type": "markdown",
      "source": [
        "# Newton Method in TensorFlow\n",
        "\n",
        "In this notebook, we will show how to implement Newton's Method to find a real root of a polynomial in TensorFlow\n",
        "\n",
        "Remember that given a function $f(x)$, the iterative equation of the method is defined as\n",
        "\n",
        "$$\n",
        "x_{n+1} = x_n - \\frac{f(x)}{f'(x)}\n",
        "$$\n",
        "\n",
        "To do this, we will use `tf.map_fn`. This function allows us to do a `map` but in a tensor – remember that we can't just use these functions over symbolic tensors.\n",
        "\n",
        "We will handle polynomials as 1-d tensors. That is, a tensor"
      ]
    },
    {
      "metadata": {
        "id": "eRjG__8DN-Ny",
        "colab_type": "code",
        "colab": {}
      },
      "cell_type": "code",
      "source": [
        "%matplotlib inline\n",
        "import tensorflow as tf\n",
        "\n",
        "\n",
        "x = tf.placeholder(tf.float32, shape=(None,))\n",
        "\n",
        "y = tf.map_fn(lambda x: x+1, x)\n",
        "\n",
        "with tf.Session() as sess:\n",
        "  res = sess.run(y, feed_dict={x: [0, 1, 2, 3]})\n",
        "  print(res)"
      ],
      "execution_count": 0,
      "outputs": []
    },
    {
      "metadata": {
        "id": "AZ3giABRRNBY",
        "colab_type": "code",
        "colab": {}
      },
      "cell_type": "code",
      "source": [
        "a = tf.constant([1, 1, 1, 1], dtype=tf.float32)\n",
        "a_rows = tf.range(tf.shape(a)[0])\n",
        "\n",
        "a, a_rows"
      ],
      "execution_count": 0,
      "outputs": []
    },
    {
      "metadata": {
        "id": "t3ciiqow8TQ4",
        "colab_type": "code",
        "colab": {
          "base_uri": "https://localhost:8080/",
          "height": 35
        },
        "outputId": "26c063d8-9946-44cc-f701-581a9951e097"
      },
      "cell_type": "code",
      "source": [
        "\n",
        "indexes = tf.cast(a_rows, tf.float32)\n",
        "\n",
        "res, _ = tf.map_fn(lambda x: (x[0] * tf.pow(2.0, x[1]), 1), \n",
        "                   (a, indexes), dtype=(tf.float32, tf.float32))\n",
        "\n",
        "poly_eval = tf.reduce_sum(res)\n",
        "\n",
        "with tf.Session() as sess:\n",
        "    print(poly_eval.eval())\n"
      ],
      "execution_count": 3,
      "outputs": [
        {
          "output_type": "stream",
          "text": [
            "15.0\n"
          ],
          "name": "stdout"
        }
      ]
    },
    {
      "metadata": {
        "id": "1NPACoZc-uZ5",
        "colab_type": "code",
        "colab": {
          "base_uri": "https://localhost:8080/",
          "height": 35
        },
        "outputId": "b0d6e175-48ba-4f75-f35b-7c3c83ce51a5"
      },
      "cell_type": "code",
      "source": [
        "a = tf.placeholder(tf.float32, shape=(None, ))\n",
        "indexes = tf.range(tf.shape(a)[0])\n",
        "\n",
        "indexes"
      ],
      "execution_count": 4,
      "outputs": [
        {
          "output_type": "execute_result",
          "data": {
            "text/plain": [
              "<tf.Tensor 'range_1:0' shape=(?,) dtype=int32>"
            ]
          },
          "metadata": {
            "tags": []
          },
          "execution_count": 4
        }
      ]
    },
    {
      "metadata": {
        "id": "6jKDu0SW-lV6",
        "colab_type": "code",
        "colab": {
          "base_uri": "https://localhost:8080/",
          "height": 53
        },
        "outputId": "866874ce-b865-472f-cdb6-2ded04e39f33"
      },
      "cell_type": "code",
      "source": [
        "def poly_eval(coeff, x):\n",
        "  indexes = tf.range(tf.shape(coeff)[0])\n",
        "  indexes = tf.cast(indexes, tf.float32)\n",
        "  \n",
        "  res, _ = tf.map_fn(\n",
        "      lambda a: (a[0] * tf.pow(x, a[1]), 1),\n",
        "      (coeff, indexes),\n",
        "      dtype=(tf.float32, tf.float32)\n",
        "  )\n",
        "  \n",
        "  return tf.reduce_sum(res, axis=0)\n",
        "\n",
        "coeff = tf.placeholder(tf.float32, shape=(None, ))\n",
        "x = tf.placeholder(tf.float32)\n",
        "\n",
        "\n",
        "evaluation = poly_eval(coeff, x)\n",
        "with tf.Session() as sess:\n",
        "  s1 = sess.run(evaluation, feed_dict={coeff:[1,1,1,1], x: 2})\n",
        "  s2 = sess.run(evaluation, feed_dict={coeff:[1,1,1,1], x: [1, 2]})\n",
        "  \n",
        "  print(s1)\n",
        "  print(s2)"
      ],
      "execution_count": 5,
      "outputs": [
        {
          "output_type": "stream",
          "text": [
            "15.0\n",
            "[ 4. 15.]\n"
          ],
          "name": "stdout"
        }
      ]
    },
    {
      "metadata": {
        "id": "0lqWjiOhTNhT",
        "colab_type": "code",
        "colab": {}
      },
      "cell_type": "code",
      "source": [
        "\n",
        "\n",
        "def poly_der(coefficients):\n",
        "  \"\"\"Returns the derivative of a polyomial of coefficients [a_0, ... , a_n]\"\"\"\n",
        "  indexes = tf.range(tf.shape(coeff)[0])\n",
        "  indexes = tf.cast(indexes, tf.float32)\n",
        "  \n",
        "  deriv_coeff = coefficients * indexes \n",
        "  return deriv_coeff[1:]\n",
        "\n",
        "\n",
        "\n",
        "def newton_approx(coefficients, x_0, n_iter=10):\n",
        "    approx = x_0\n",
        "    deriv_coeff = poly_der(coefficients)\n",
        "    for i in range(n_iter):\n",
        "        approx -= poly_eval(coefficients, approx) / poly_eval(deriv_coeff, approx)\n",
        "    return approx\n",
        "  \n",
        "coeff = tf.placeholder(tf.float32, shape=(None,), name=\"coeffs\")\n",
        "initial_approx = tf.placeholder(tf.float32, name=\"initial_approx\")\n",
        "\n",
        "approx = newton_approx(coeff, initial_approx)"
      ],
      "execution_count": 0,
      "outputs": []
    },
    {
      "metadata": {
        "id": "pn90lVESVoeO",
        "colab_type": "code",
        "colab": {
          "base_uri": "https://localhost:8080/",
          "height": 35
        },
        "outputId": "6e42dc62-57e3-43a8-86f8-a9532b3a42ce"
      },
      "cell_type": "code",
      "source": [
        "with tf.Session() as sess:\n",
        "  res = approx.eval(feed_dict={coeff:[-2, 0, 1], initial_approx:[5, -10]})\n",
        "  print(res)"
      ],
      "execution_count": 12,
      "outputs": [
        {
          "output_type": "stream",
          "text": [
            "[ 1.4142135 -1.4142135]\n"
          ],
          "name": "stdout"
        }
      ]
    }
  ]
}