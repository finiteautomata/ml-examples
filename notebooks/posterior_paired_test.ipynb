{
 "cells": [
  {
   "cell_type": "markdown",
   "metadata": {},
   "source": [
    "# Comparison of Classifier's predicted probability: t-test, Wilcoxon test and others\n",
    "\n",
    "In this notebook, we use paired tests to assess whether the posterior probabilities of two classifiers differ significantly.\n",
    "\n",
    "First, let's load the Breast Cancer Dataset. We will construct two RandomForest with 50 and 51 estimators with the hope that there is no real difference between them\n",
    "\n"
   ]
  },
  {
   "cell_type": "code",
   "execution_count": 6,
   "metadata": {
    "collapsed": true
   },
   "outputs": [],
   "source": [
    "import sklearn\n",
    "import numpy as np\n",
    "import scipy\n",
    "from sklearn.ensemble import RandomForestClassifier\n",
    "from sklearn.datasets import load_iris, load_breast_cancer, load_digits\n",
    "from sklearn.model_selection import train_test_split\n",
    "from __future__ import print_function\n",
    "\n",
    "dataset = load_breast_cancer()\n",
    "\n",
    "data = dataset.data\n",
    "target = dataset.target\n",
    "\n"
   ]
  },
  {
   "cell_type": "markdown",
   "metadata": {},
   "source": [
    "Now, let's perform a paired t-test."
   ]
  },
  {
   "cell_type": "code",
   "execution_count": 7,
   "metadata": {
    "collapsed": false
   },
   "outputs": [
    {
     "name": "stdout",
     "output_type": "stream",
     "text": [
      "1 run\n",
      "P-value : 0.803051858565\n",
      "2 run\n",
      "P-value : 0.235007027539\n",
      "3 run\n",
      "P-value : 0.246274852779\n",
      "4 run\n",
      "P-value : 0.0624261284336\n",
      "5 run\n",
      "P-value : 0.048288650826\n",
      "6 run\n",
      "P-value : 0.279970029367\n",
      "7 run\n",
      "P-value : 0.989384821222\n",
      "8 run\n",
      "P-value : 0.577798898327\n",
      "9 run\n",
      "P-value : 0.922509261412\n",
      "10 run\n",
      "P-value : 0.967157109588\n"
     ]
    }
   ],
   "source": [
    "for _ in range(10):\n",
    "    X_train, X_test, Y_train, Y_test = train_test_split(data, target, test_size=0.2)\n",
    "\n",
    "    clf_A = RandomForestClassifier(n_estimators=50)\n",
    "    clf_B = RandomForestClassifier(n_estimators=51)\n",
    "\n",
    "    clf_A.fit(X_train, Y_train);\n",
    "    clf_B.fit(X_train, Y_train);\n",
    "    \n",
    "    prob_A = clf_A.predict_proba(X_test)[:, 1]\n",
    "    prob_B = clf_B.predict_proba(X_test)[:, 1]\n",
    "    \n",
    "    print(\"{} run\".format(_+1))\n",
    "    print(\"P-value : {}\".format(scipy.stats.ttest_rel(prob_A, prob_B).pvalue))"
   ]
  },
  {
   "cell_type": "markdown",
   "metadata": {},
   "source": [
    "As we can see, there is a high probability of performing a type I error. Is it because data is non-normal?\n",
    "\n",
    "Let's perform a Wilcoxon non parametric test."
   ]
  },
  {
   "cell_type": "code",
   "execution_count": 8,
   "metadata": {
    "collapsed": false
   },
   "outputs": [
    {
     "name": "stdout",
     "output_type": "stream",
     "text": [
      "1 run\n",
      "P-value : 0.107725164429\n",
      "2 run\n",
      "P-value : 0.315788095921\n",
      "3 run\n",
      "P-value : 0.629511470224\n",
      "4 run\n",
      "P-value : 0.802640192194\n",
      "5 run\n",
      "P-value : 0.433733102243\n",
      "6 run\n",
      "P-value : 0.635596646395\n",
      "7 run\n",
      "P-value : 0.49267168113\n",
      "8 run\n",
      "P-value : 0.0365398300494\n",
      "9 run\n",
      "P-value : 0.386452210453\n",
      "10 run\n",
      "P-value : 0.237561828978\n"
     ]
    }
   ],
   "source": [
    "for _ in range(10):\n",
    "    X_train, X_test, Y_train, Y_test = train_test_split(data, target, test_size=0.2)\n",
    "\n",
    "    clf_A = RandomForestClassifier(n_estimators=50)\n",
    "    clf_B = RandomForestClassifier(n_estimators=51)\n",
    "\n",
    "    clf_A.fit(X_train, Y_train);\n",
    "    clf_B.fit(X_train, Y_train);\n",
    "    \n",
    "    prob_A = clf_A.predict_proba(X_test)[:, 1]\n",
    "    prob_B = clf_B.predict_proba(X_test)[:, 1]\n",
    "    \n",
    "    print(\"{} run\".format(_+1))\n",
    "    print(\"P-value : {}\".format(scipy.stats.wilcoxon(prob_A, prob_B).pvalue))"
   ]
  },
  {
   "cell_type": "markdown",
   "metadata": {},
   "source": [
    "There is a high variability here too, depending mainly on the random split of the test set. Let's try this on another dataset"
   ]
  },
  {
   "cell_type": "code",
   "execution_count": 9,
   "metadata": {
    "collapsed": false
   },
   "outputs": [
    {
     "name": "stdout",
     "output_type": "stream",
     "text": [
      "1 run\n",
      "P-value : 0.274646747515\n",
      "2 run\n",
      "P-value : 0.376916372728\n",
      "3 run\n",
      "P-value : 0.278462636287\n",
      "4 run\n",
      "P-value : 0.206219391555\n",
      "5 run\n",
      "P-value : 0.120399696459\n",
      "6 run\n",
      "P-value : 0.0319334504654\n",
      "7 run\n",
      "P-value : 0.00289103538983\n",
      "8 run\n",
      "P-value : 0.0532025213858\n",
      "9 run\n",
      "P-value : 0.685694385542\n",
      "10 run\n",
      "P-value : 0.0192099698263\n"
     ]
    }
   ],
   "source": [
    "dataset = load_digits()\n",
    "\n",
    "data = dataset.data\n",
    "target = dataset.target\n",
    "\n",
    "\n",
    "for _ in range(10):\n",
    "    X_train, X_test, Y_train, Y_test = train_test_split(data, target, test_size=0.2)\n",
    "\n",
    "    clf_A = RandomForestClassifier(n_estimators=50)\n",
    "    clf_B = RandomForestClassifier(n_estimators=51)\n",
    "\n",
    "    clf_A.fit(X_train, Y_train);\n",
    "    clf_B.fit(X_train, Y_train);\n",
    "    \n",
    "    prob_A = clf_A.predict_proba(X_test)[:, 0]\n",
    "    prob_B = clf_B.predict_proba(X_test)[:, 0]\n",
    "    \n",
    "    print(\"{} run\".format(_+1))\n",
    "    print(\"P-value : {}\".format(scipy.stats.wilcoxon(prob_A, prob_B).pvalue))"
   ]
  },
  {
   "cell_type": "markdown",
   "metadata": {},
   "source": [
    "Seeing these examples, it seems that comparing posterior probabilities is very unstable."
   ]
  }
 ],
 "metadata": {
  "kernelspec": {
   "display_name": "Python 2",
   "language": "python",
   "name": "python2"
  },
  "language_info": {
   "codemirror_mode": {
    "name": "ipython",
    "version": 2
   },
   "file_extension": ".py",
   "mimetype": "text/x-python",
   "name": "python",
   "nbconvert_exporter": "python",
   "pygments_lexer": "ipython2",
   "version": "2.7.12"
  }
 },
 "nbformat": 4,
 "nbformat_minor": 1
}
