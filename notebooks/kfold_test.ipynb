{
 "cells": [
  {
   "cell_type": "markdown",
   "metadata": {},
   "source": [
    "# Comparison of Classifiers: k-fold + ROC AUC scores\n",
    "\n",
    "Let's do the following: do a k-fold of ROC AUC, and compare the scores with a Wilcoxon test.\n",
    "\n",
    "I check it ten times to assess its variability.\n",
    "\n",
    "First, let's load the Breast Cancer Dataset. We will construct two RandomForest with 50 and 51 estimators with the hope that there is no real difference between them\n",
    "\n",
    "## Problems of this test:\n",
    "\n",
    "- Lack of independence: Each pair of training sets share 80% of their examples, so the conditions of a t-test, Wilcoxon and others is not met\n",
    "\n",
    "\n",
    "## References\n",
    "\n",
    "1. Dietterich, T. G. (1998). Approximate statistical tests for comparing supervised classification learning algorithms. Neural computation, 10(7), 1895-1923.\n",
    "2. Bifet (2005), Efficient Online Evaluation of Big Data Stream Classifiers.\n",
    "3. Demšar, J. (2006). Statistical comparisons of classifiers over multiple data sets. Journal of Machine learning research, 7(Jan), 1-30."
   ]
  },
  {
   "cell_type": "code",
   "execution_count": 1,
   "metadata": {
    "collapsed": true
   },
   "outputs": [],
   "source": [
    "import sklearn\n",
    "import numpy as np\n",
    "import scipy\n",
    "from sklearn.ensemble import RandomForestClassifier\n",
    "from sklearn.datasets import load_iris, load_breast_cancer, load_digits\n",
    "from sklearn.model_selection import train_test_split\n",
    "\n",
    "from __future__ import print_function\n",
    "from IPython.core.debugger import Tracer\n",
    "\n",
    "dataset = load_breast_cancer()\n",
    "\n",
    "data = dataset.data\n",
    "target = dataset.target\n",
    "\n"
   ]
  },
  {
   "cell_type": "code",
   "execution_count": 2,
   "metadata": {
    "collapsed": false
   },
   "outputs": [],
   "source": [
    "from sklearn.model_selection import cross_val_score, StratifiedKFold\n",
    "from sklearn.metrics import roc_auc_score\n",
    "from sklearn.metrics.scorer import check_scoring\n",
    "\n",
    "def _get_score(clf, X_train, y_train, X_test, y_test, scoring):\n",
    "    clf.fit(X_train, y_train)\n",
    "    \n",
    "    scorer = check_scoring(clf, scoring=scoring)\n",
    "\n",
    "    return scorer(clf, X_test, y_test)\n",
    "\n",
    "\n",
    "def k_fold_compare(clfA, clfB, data, target, cv, scoring='roc_auc'):\n",
    "    pval = None\n",
    "    splitter = StratifiedKFold(n_splits=cv)\n",
    "\n",
    "    score_A = []\n",
    "    score_B = []\n",
    "\n",
    "    for train_index, test_index in splitter.split(data, target):\n",
    "        X_train, y_train = data[train_index], target[train_index]\n",
    "        X_test, y_test = data[test_index], target[test_index]\n",
    "\n",
    "        score_A.append(_get_score(clfA, X_train, y_train, X_test, y_test, scoring=scoring))\n",
    "        score_B.append(_get_score(clfB, X_train, y_train, X_test, y_test, scoring=scoring))\n",
    "\n",
    "    pval = scipy.stats.wilcoxon(score_A, score_B).pvalue\n",
    "    \n",
    "    return pval"
   ]
  },
  {
   "cell_type": "code",
   "execution_count": 3,
   "metadata": {
    "collapsed": false
   },
   "outputs": [
    {
     "name": "stderr",
     "output_type": "stream",
     "text": [
      "/home/jmperez/.pyenv/versions/2.7.12/envs/aprendizaje/lib/python2.7/site-packages/scipy/stats/morestats.py:2388: UserWarning: Warning: sample size too small for normal approximation.\n",
      "  warnings.warn(\"Warning: sample size too small for normal approximation.\")\n"
     ]
    },
    {
     "name": "stdout",
     "output_type": "stream",
     "text": [
      "Type I error: 40-iteration - pval = 0.035465864624\n",
      "Type I error: 50-iteration - pval = 0.0425224779981\n",
      "Type I error: 56-iteration - pval = 0.0179604775261\n",
      "Type I error: 70-iteration - pval = 0.0499499764547\n",
      "Type I error: 87-iteration - pval = 0.035465864624\n"
     ]
    }
   ],
   "source": [
    "for i in range(100):\n",
    "    pval = k_fold_compare(\n",
    "        RandomForestClassifier(n_estimators=50), \n",
    "        RandomForestClassifier(n_estimators=51), \n",
    "        data, \n",
    "        target,\n",
    "        cv=10\n",
    "    )\n",
    "    if pval < 0.05:\n",
    "        print(\"Type I error: {}-iteration - pval = {}\".format(i, pval))"
   ]
  },
  {
   "cell_type": "code",
   "execution_count": 4,
   "metadata": {
    "collapsed": false
   },
   "outputs": [
    {
     "name": "stdout",
     "output_type": "stream",
     "text": [
      "Type I error: 25-iteration - pval = 0.0431144467831\n",
      "Type I error: 40-iteration - pval = 0.0179604775261\n",
      "Type I error: 42-iteration - pval = 0.0279918154857\n",
      "Type I error: 45-iteration - pval = 0.0277078493581\n"
     ]
    },
    {
     "name": "stderr",
     "output_type": "stream",
     "text": [
      "/home/jmperez/.pyenv/versions/2.7.12/envs/aprendizaje/lib/python2.7/site-packages/scipy/stats/morestats.py:2413: RuntimeWarning: invalid value encountered in double_scalars\n",
      "  z = (T - mn - correction) / se\n"
     ]
    },
    {
     "name": "stdout",
     "output_type": "stream",
     "text": [
      "Type I error: 79-iteration - pval = 0.0431144467831\n",
      "Type I error: 83-iteration - pval = 0.0463994618709\n"
     ]
    }
   ],
   "source": [
    "for i in range(100):\n",
    "    pval = k_fold_compare(\n",
    "        RandomForestClassifier(n_estimators=50), \n",
    "        RandomForestClassifier(n_estimators=51), \n",
    "        data, \n",
    "        target,\n",
    "        scoring='precision',\n",
    "        cv=10\n",
    "    )\n",
    "    \n",
    "    if pval < 0.05:\n",
    "        print(\"Type I error: {}-iteration - pval = {}\".format(i, pval))"
   ]
  },
  {
   "cell_type": "markdown",
   "metadata": {},
   "source": [
    "# Two different-performing classifiers\n"
   ]
  },
  {
   "cell_type": "code",
   "execution_count": 11,
   "metadata": {
    "collapsed": false
   },
   "outputs": [
    {
     "name": "stdout",
     "output_type": "stream",
     "text": [
      "Rejecting null hypothesis (pval = 0.00506203212627)\n",
      "Rejecting null hypothesis (pval = 0.00506203212627)\n",
      "Rejecting null hypothesis (pval = 0.00506203212627)\n",
      "Rejecting null hypothesis (pval = 0.00506203212627)\n",
      "Rejecting null hypothesis (pval = 0.00691042980781)\n",
      "Rejecting null hypothesis (pval = 0.00506203212627)\n",
      "Rejecting null hypothesis (pval = 0.00768579405521)\n",
      "Rejecting null hypothesis (pval = 0.00506203212627)\n",
      "Rejecting null hypothesis (pval = 0.00768579405521)\n",
      "Rejecting null hypothesis (pval = 0.00506203212627)\n",
      "Rejecting null hypothesis (pval = 0.00506203212627)\n",
      "Rejecting null hypothesis (pval = 0.00506203212627)\n",
      "Rejecting null hypothesis (pval = 0.00506203212627)\n",
      "Rejecting null hypothesis (pval = 0.00506203212627)\n",
      "Rejecting null hypothesis (pval = 0.00506203212627)\n",
      "Rejecting null hypothesis (pval = 0.00506203212627)\n",
      "Rejecting null hypothesis (pval = 0.00506203212627)\n",
      "Rejecting null hypothesis (pval = 0.00506203212627)\n",
      "Rejecting null hypothesis (pval = 0.00506203212627)\n",
      "Rejecting null hypothesis (pval = 0.00506203212627)\n"
     ]
    }
   ],
   "source": [
    "from sklearn.naive_bayes import GaussianNB\n",
    "from sklearn.tree import DecisionTreeClassifier\n",
    "\n",
    "clf_A = RandomForestClassifier(n_estimators=50)\n",
    "clf_B = DecisionTreeClassifier(max_depth=2)\n",
    "\n",
    "\n",
    "for i in range(20):\n",
    "    pval = k_fold_compare(\n",
    "        clf_A, \n",
    "        clf_B, \n",
    "        data, \n",
    "        target,\n",
    "        cv=10\n",
    "    )\n",
    "    if pval > 0.05:\n",
    "        print(\"Type II error: {}-iteration - pval = {}\".format(i, pval))\n",
    "    else:\n",
    "        print(\"Rejecting null hypothesis (pval = {})\".format(pval))"
   ]
  },
  {
   "cell_type": "code",
   "execution_count": 20,
   "metadata": {
    "collapsed": false
   },
   "outputs": [
    {
     "data": {
      "image/png": "[encoded data removed]",
      "text/plain": [
       "<matplotlib.figure.Figure at 0x7fe6d49e3f50>"
      ]
     },
     "metadata": {},
     "output_type": "display_data"
    }
   ],
   "source": [
    "%matplotlib inline\n",
    "import seaborn as sns\n",
    "import matplotlib.pyplot as plt\n",
    "\n",
    "clf_A.fit(data, target)\n",
    "clf_B.fit(data, target)\n",
    "\n",
    "def distplot(clf, data, target):\n",
    "    prob = clf.predict_proba(data)[:, 1]\n",
    "    sns.distplot(prob[target==1], color=\"red\", label=\"Cancer\", hist=False)\n",
    "    sns.distplot(prob[target==0], color=\"blue\", label=\"Benign\", hist=False)\n",
    "#p = np.random.random(100) / 2.0 + np.array(40*[0] + 60*[0.5])  # posteriors modelo 1\n",
    "#p2 = np.random.random(100) # posteriors modelo 2\n",
    "#y = np.array([\"Gato\"]*60 + [\"Perro\"]*40) # labels\n",
    "\n",
    "distplot(clf_A, data, target)"
   ]
  },
  {
   "cell_type": "code",
   "execution_count": null,
   "metadata": {
    "collapsed": true
   },
   "outputs": [],
   "source": []
  }
 ],
 "metadata": {
  "kernelspec": {
   "display_name": "Python 2",
   "language": "python",
   "name": "python2"
  },
  "language_info": {
   "codemirror_mode": {
    "name": "ipython",
    "version": 2
   },
   "file_extension": ".py",
   "mimetype": "text/x-python",
   "name": "python",
   "nbconvert_exporter": "python",
   "pygments_lexer": "ipython2",
   "version": "2.7.12"
  }
 },
 "nbformat": 4,
 "nbformat_minor": 1
}
