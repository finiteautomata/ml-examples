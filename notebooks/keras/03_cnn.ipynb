{
 "cells": [
  {
   "cell_type": "markdown",
   "metadata": {},
   "source": [
    "# Digits Classification with CNN\n",
    "\n",
    "Useful link: https://cambridgespark.com/content/tutorials/convolutional-neural-networks-with-keras/index.html\n",
    "\n",
    "`As already hinted, convolutions are not typically meant to be the sole operation in a CNN (although there have been promising recent developments on all-convolutional networks); but rather to extract useful features of an image prior to downsampling it sufficiently to be manageable by an MLP.`"
   ]
  },
  {
   "cell_type": "code",
   "execution_count": 1,
   "metadata": {},
   "outputs": [
    {
     "name": "stderr",
     "output_type": "stream",
     "text": [
      "Using TensorFlow backend.\n",
      "/home/jmperez/.pyenv/versions/3.6.0/lib/python3.6/importlib/_bootstrap.py:205: RuntimeWarning: compiletime version 3.5 of module 'tensorflow.python.framework.fast_tensor_util' does not match runtime version 3.6\n",
      "  return f(*args, **kwds)\n"
     ]
    }
   ],
   "source": [
    "%matplotlib inline\n",
    "\n",
    "from keras.datasets import cifar10 # subroutines for fetching the CIFAR-10 dataset\n",
    "from keras.utils import np_utils # utilities for one-hot encoding of ground truth values\n",
    "import numpy as np\n",
    "\n",
    "batch_size = 32 # in each iteration, we consider 32 training examples at once\n",
    "\n",
    "\n",
    "drop_prob_2 = 0.5 # dropout in the FC layer with probability 0.5\n",
    "hidden_size = 512 # the FC layer will have 512 neurons"
   ]
  },
  {
   "cell_type": "markdown",
   "metadata": {},
   "source": [
    "Let's fetch CIFAR data"
   ]
  },
  {
   "cell_type": "code",
   "execution_count": 2,
   "metadata": {},
   "outputs": [],
   "source": [
    "(X_train, y_train), (X_test, y_test) = cifar10.load_data() # fetch CIFAR-10 data"
   ]
  },
  {
   "cell_type": "markdown",
   "metadata": {},
   "source": [
    "Let's set some important variables\n",
    "\n",
    "- num_train, num_test: number of training/test instances\n",
    "- height, width, depth: Shape of images\n",
    "- num_classes: number of output classes (there should be 10)"
   ]
  },
  {
   "cell_type": "code",
   "execution_count": 3,
   "metadata": {},
   "outputs": [
    {
     "name": "stdout",
     "output_type": "stream",
     "text": [
      "Shape of images (32, 32, 3): \n"
     ]
    }
   ],
   "source": [
    "\n",
    "num_train, height, width, depth = X_train.shape # there are 50000 training examples in CIFAR-10 \n",
    "num_test = X_test.shape[0] # there are 10000 test examples in CIFAR-10\n",
    "num_classes = np.unique(y_train).shape[0] # there are 10 image classes\n",
    "\n",
    "print(\"Shape of images {}: \".format((height, width, depth)))"
   ]
  },
  {
   "cell_type": "markdown",
   "metadata": {},
   "source": [
    "Let's show one of these images..."
   ]
  },
  {
   "cell_type": "code",
   "execution_count": 4,
   "metadata": {},
   "outputs": [
    {
     "name": "stdout",
     "output_type": "stream",
     "text": [
      "(32, 32, 3)\n"
     ]
    },
    {
     "data": {
      "text/plain": [
       "<matplotlib.image.AxesImage at 0x7fef49a82978>"
      ]
     },
     "execution_count": 4,
     "metadata": {},
     "output_type": "execute_result"
    },
    {
     "data": {
      "image/png": "[encoded data removed]",
      "text/plain": [
       "<matplotlib.figure.Figure at 0x7fef54d9da90>"
      ]
     },
     "metadata": {},
     "output_type": "display_data"
    }
   ],
   "source": [
    "import matplotlib.pyplot as plt\n",
    "print(X_train[12].shape)\n",
    "plt.imshow(X_train[12])"
   ]
  },
  {
   "cell_type": "code",
   "execution_count": 5,
   "metadata": {},
   "outputs": [],
   "source": [
    "X_train = X_train.astype('float32') \n",
    "X_test = X_test.astype('float32')"
   ]
  },
  {
   "cell_type": "code",
   "execution_count": 6,
   "metadata": {},
   "outputs": [
    {
     "data": {
      "text/plain": [
       "<matplotlib.image.AxesImage at 0x7fef4d82db38>"
      ]
     },
     "execution_count": 6,
     "metadata": {},
     "output_type": "execute_result"
    },
    {
     "data": {
      "image/png": "[encoded data removed]",
      "text/plain": [
       "<matplotlib.figure.Figure at 0x7fef54d9d198>"
      ]
     },
     "metadata": {},
     "output_type": "display_data"
    }
   ],
   "source": [
    "plt.imshow(X_train[12])"
   ]
  },
  {
   "cell_type": "markdown",
   "metadata": {},
   "source": [
    "I don't understand why the pony appears in negative, but it's ok\n",
    "\n",
    "Now: normalize X, and one-hot encode the target"
   ]
  },
  {
   "cell_type": "code",
   "execution_count": 7,
   "metadata": {},
   "outputs": [],
   "source": [
    "X_train /= np.max(X_train) # Normalise data to [0, 1] range\n",
    "X_test /= np.max(X_test) # Normalise data to [0, 1] range\n",
    "\n",
    "Y_train = np_utils.to_categorical(y_train, num_classes) # One-hot encode the labels\n",
    "Y_test = np_utils.to_categorical(y_test, num_classes) # One-hot encode the labels"
   ]
  },
  {
   "cell_type": "markdown",
   "metadata": {},
   "source": [
    "Let's make our first model. Just two convolutions, one maxpool, a flatten, and a softmax layer."
   ]
  },
  {
   "cell_type": "code",
   "execution_count": 9,
   "metadata": {},
   "outputs": [],
   "source": [
    "from keras.models import Sequential\n",
    "from keras.layers import Conv2D, MaxPool2D, Flatten, Dense\n",
    "model = Sequential()\n",
    "\n",
    "conv_depth_1 = 32 # we will initially have 32 kernels per conv. layer...\n",
    "conv_depth_2 = 64 # ...switching to 64 after the first pooling layer\n",
    "kernel_size = 3 # we will use 3x3 kernels throughout\n",
    "pool_size = 2\n",
    "# Conv [32] -> Conv [32] -> Pool (with dropout on the pooling layer)\n",
    "# First convolution. 32 filters, 3x3 filters\n",
    "model.add(Conv2D(conv_depth_1, (kernel_size, kernel_size), \n",
    "                        padding='same', activation='relu', input_shape=(height, width, depth)))\n",
    "\n",
    "model.add(Conv2D(conv_depth_1, (kernel_size, kernel_size), \n",
    "                        padding='same', activation='relu'))\n",
    "model.add(MaxPool2D(pool_size=(pool_size, pool_size)))\n",
    "model.add(Flatten())\n",
    "model.add(Dense(num_classes, activation='softmax'))\n",
    "\n",
    "model.compile(loss='categorical_crossentropy', # using the cross-entropy loss function\n",
    "              optimizer='adam', # using the Adam optimiser\n",
    "              metrics=['accuracy']) # reporting the accuracy"
   ]
  },
  {
   "cell_type": "code",
   "execution_count": 11,
   "metadata": {},
   "outputs": [
    {
     "name": "stdout",
     "output_type": "stream",
     "text": [
      "Train on 45000 samples, validate on 5000 samples\n",
      "Epoch 1/1\n",
      "45000/45000 [==============================] - 84s 2ms/step - loss: 1.3488 - acc: 0.5274 - val_loss: 1.1106 - val_acc: 0.6190\n"
     ]
    },
    {
     "data": {
      "text/plain": [
       "<keras.callbacks.History at 0x7fef4d593a90>"
      ]
     },
     "execution_count": 11,
     "metadata": {},
     "output_type": "execute_result"
    }
   ],
   "source": [
    "num_epochs = 1\n",
    "\n",
    "model.fit(X_train, Y_train,                # Train the model using the training set...\n",
    "          batch_size=batch_size, epochs=num_epochs,\n",
    "          verbose=1, validation_split=0.1) "
   ]
  },
  {
   "cell_type": "code",
   "execution_count": 12,
   "metadata": {},
   "outputs": [
    {
     "name": "stdout",
     "output_type": "stream",
     "text": [
      "10000/10000 [==============================] - 6s 552us/step\n"
     ]
    },
    {
     "data": {
      "text/plain": [
       "[1.1239460359573363, 0.6069]"
      ]
     },
     "execution_count": 12,
     "metadata": {},
     "output_type": "execute_result"
    }
   ],
   "source": [
    "model.evaluate(X_test, Y_test, verbose=1)"
   ]
  },
  {
   "cell_type": "markdown",
   "metadata": {},
   "source": [
    "Wow. 60% accuracy on just one epoch!"
   ]
  },
  {
   "cell_type": "code",
   "execution_count": 13,
   "metadata": {},
   "outputs": [
    {
     "name": "stdout",
     "output_type": "stream",
     "text": [
      "Train on 45000 samples, validate on 5000 samples\n",
      "Epoch 1/10\n",
      "45000/45000 [==============================] - 83s 2ms/step - loss: 1.0003 - acc: 0.6531 - val_loss: 0.9672 - val_acc: 0.6704\n",
      "Epoch 2/10\n",
      "45000/45000 [==============================] - 83s 2ms/step - loss: 0.8818 - acc: 0.6969 - val_loss: 0.9563 - val_acc: 0.6656\n",
      "Epoch 3/10\n",
      "45000/45000 [==============================] - 82s 2ms/step - loss: 0.8059 - acc: 0.7213 - val_loss: 0.9600 - val_acc: 0.6776\n",
      "Epoch 4/10\n",
      "45000/45000 [==============================] - 80s 2ms/step - loss: 0.7406 - acc: 0.7439 - val_loss: 0.9436 - val_acc: 0.6792\n",
      "Epoch 5/10\n",
      "45000/45000 [==============================] - 80s 2ms/step - loss: 0.6775 - acc: 0.7648 - val_loss: 0.9507 - val_acc: 0.6874\n",
      "Epoch 6/10\n",
      "45000/45000 [==============================] - 80s 2ms/step - loss: 0.6251 - acc: 0.7831 - val_loss: 1.0092 - val_acc: 0.6796\n",
      "Epoch 7/10\n",
      "45000/45000 [==============================] - 84s 2ms/step - loss: 0.5686 - acc: 0.8025 - val_loss: 1.0433 - val_acc: 0.6716\n",
      "Epoch 8/10\n",
      "45000/45000 [==============================] - 82s 2ms/step - loss: 0.5261 - acc: 0.8175 - val_loss: 1.0373 - val_acc: 0.6794\n",
      "Epoch 9/10\n",
      "45000/45000 [==============================] - 80s 2ms/step - loss: 0.4788 - acc: 0.8336 - val_loss: 1.0994 - val_acc: 0.6702\n",
      "Epoch 10/10\n",
      "45000/45000 [==============================] - 84s 2ms/step - loss: 0.4399 - acc: 0.8458 - val_loss: 1.2618 - val_acc: 0.6500\n"
     ]
    },
    {
     "data": {
      "text/plain": [
       "<keras.callbacks.History at 0x7fef4c258da0>"
      ]
     },
     "execution_count": 13,
     "metadata": {},
     "output_type": "execute_result"
    }
   ],
   "source": [
    "num_epochs = 10\n",
    "\n",
    "model.fit(X_train, Y_train,                # Train the model using the training set...\n",
    "          batch_size=batch_size, epochs=num_epochs,\n",
    "          verbose=1, validation_split=0.1) "
   ]
  },
  {
   "cell_type": "code",
   "execution_count": 14,
   "metadata": {},
   "outputs": [
    {
     "name": "stdout",
     "output_type": "stream",
     "text": [
      "10000/10000 [==============================] - 6s 564us/step\n"
     ]
    },
    {
     "data": {
      "text/plain": [
       "[1.3079205474853515, 0.64639999999999997]"
      ]
     },
     "execution_count": 14,
     "metadata": {},
     "output_type": "execute_result"
    }
   ],
   "source": [
    "model.evaluate(X_test, Y_test, verbose=1)"
   ]
  },
  {
   "cell_type": "markdown",
   "metadata": {},
   "source": [
    "It got quite better, in fact."
   ]
  },
  {
   "cell_type": "markdown",
   "metadata": {},
   "source": [
    "## Adding dropout"
   ]
  },
  {
   "cell_type": "code",
   "execution_count": 17,
   "metadata": {},
   "outputs": [],
   "source": [
    "from keras.models import Sequential\n",
    "from keras.layers import Conv2D, MaxPool2D, Flatten, Dense, Dropout\n",
    "\n",
    "drop_prob_1 = 0.25 # dropout after pooling with probability 0.25\n",
    "conv_depth_1 = 32 # we will initially have 32 kernels per conv. layer...\n",
    "conv_depth_2 = 64 # ...switching to 64 after the first pooling layer\n",
    "kernel_size = 3 # we will use 3x3 kernels throughout\n",
    "pool_size = 2\n",
    "\n",
    "model = Sequential()\n",
    "model.add(Conv2D(conv_depth_1, (kernel_size, kernel_size), \n",
    "                        padding='same', activation='relu', input_shape=(height, width, depth)))\n",
    "\n",
    "model.add(Conv2D(conv_depth_1, (kernel_size, kernel_size), \n",
    "                        padding='same', activation='relu'))\n",
    "model.add(MaxPool2D(pool_size=(pool_size, pool_size)))\n",
    "model.add(Flatten())\n",
    "model.add(Dropout(drop_prob_1))\n",
    "model.add(Dense(num_classes, activation='softmax'))\n",
    "\n",
    "model.compile(loss='categorical_crossentropy', # using the cross-entropy loss function\n",
    "              optimizer='adam', # using the Adam optimiser\n",
    "              metrics=['accuracy']) # reporting the accuracy"
   ]
  },
  {
   "cell_type": "code",
   "execution_count": 18,
   "metadata": {},
   "outputs": [
    {
     "name": "stdout",
     "output_type": "stream",
     "text": [
      "Train on 45000 samples, validate on 5000 samples\n",
      "Epoch 1/10\n",
      "45000/45000 [==============================] - 89s 2ms/step - loss: 1.4492 - acc: 0.4863 - val_loss: 1.1811 - val_acc: 0.5862\n",
      "Epoch 2/10\n",
      "45000/45000 [==============================] - 80s 2ms/step - loss: 1.1143 - acc: 0.6112 - val_loss: 1.0402 - val_acc: 0.6416\n",
      "Epoch 3/10\n",
      "45000/45000 [==============================] - 82s 2ms/step - loss: 0.9923 - acc: 0.6548 - val_loss: 0.9548 - val_acc: 0.6750\n",
      "Epoch 4/10\n",
      "45000/45000 [==============================] - 79s 2ms/step - loss: 0.9227 - acc: 0.6776 - val_loss: 0.9775 - val_acc: 0.6634\n",
      "Epoch 5/10\n",
      "45000/45000 [==============================] - 83s 2ms/step - loss: 0.8693 - acc: 0.6997 - val_loss: 0.9341 - val_acc: 0.6836\n",
      "Epoch 6/10\n",
      "45000/45000 [==============================] - 85s 2ms/step - loss: 0.8261 - acc: 0.7133 - val_loss: 0.9271 - val_acc: 0.6832\n",
      "Epoch 7/10\n",
      "45000/45000 [==============================] - 81s 2ms/step - loss: 0.7897 - acc: 0.7259 - val_loss: 0.9166 - val_acc: 0.6942\n",
      "Epoch 8/10\n",
      "45000/45000 [==============================] - 85s 2ms/step - loss: 0.7582 - acc: 0.7338 - val_loss: 0.9499 - val_acc: 0.6692\n",
      "Epoch 9/10\n",
      "45000/45000 [==============================] - 89s 2ms/step - loss: 0.7369 - acc: 0.7426 - val_loss: 0.9227 - val_acc: 0.6892\n",
      "Epoch 10/10\n",
      "45000/45000 [==============================] - 87s 2ms/step - loss: 0.7106 - acc: 0.7512 - val_loss: 0.9385 - val_acc: 0.6814\n"
     ]
    },
    {
     "data": {
      "text/plain": [
       "<keras.callbacks.History at 0x7fef1d6e1e80>"
      ]
     },
     "execution_count": 18,
     "metadata": {},
     "output_type": "execute_result"
    }
   ],
   "source": [
    "num_epochs = 10\n",
    "\n",
    "model.fit(X_train, Y_train,                # Train the model using the training set...\n",
    "          batch_size=batch_size, epochs=num_epochs,\n",
    "          verbose=1, validation_split=0.1) "
   ]
  },
  {
   "cell_type": "code",
   "execution_count": 19,
   "metadata": {},
   "outputs": [
    {
     "name": "stdout",
     "output_type": "stream",
     "text": [
      "10000/10000 [==============================] - 6s 552us/step\n"
     ]
    },
    {
     "data": {
      "text/plain": [
       "[0.99343153419494634, 0.66090000000000004]"
      ]
     },
     "execution_count": 19,
     "metadata": {},
     "output_type": "execute_result"
    }
   ],
   "source": [
    "model.evaluate(X_test, Y_test, verbose=1)"
   ]
  },
  {
   "cell_type": "markdown",
   "metadata": {},
   "source": [
    "It improves about 1.5%"
   ]
  },
  {
   "cell_type": "code",
   "execution_count": null,
   "metadata": {},
   "outputs": [],
   "source": []
  }
 ],
 "metadata": {
  "kernelspec": {
   "display_name": "Python 3",
   "language": "python",
   "name": "python3"
  },
  "language_info": {
   "codemirror_mode": {
    "name": "ipython",
    "version": 3
   },
   "file_extension": ".py",
   "mimetype": "text/x-python",
   "name": "python",
   "nbconvert_exporter": "python",
   "pygments_lexer": "ipython3",
   "version": "3.6.0"
  }
 },
 "nbformat": 4,
 "nbformat_minor": 2
}
