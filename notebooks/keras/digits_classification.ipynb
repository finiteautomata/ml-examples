{
 "cells": [
  {
   "cell_type": "markdown",
   "metadata": {},
   "source": [
    "# Digits and NN"
   ]
  },
  {
   "cell_type": "code",
   "execution_count": 1,
   "metadata": {},
   "outputs": [],
   "source": [
    "%matplotlib inline\n",
    "from sklearn.model_selection import train_test_split\n",
    "from sklearn import datasets\n",
    "import matplotlib.pyplot as plt\n",
    "\n",
    "digits = datasets.load_digits()"
   ]
  },
  {
   "cell_type": "code",
   "execution_count": 2,
   "metadata": {},
   "outputs": [
    {
     "data": {
      "text/plain": [
       "<matplotlib.image.AxesImage at 0x7f4f73303208>"
      ]
     },
     "execution_count": 2,
     "metadata": {},
     "output_type": "execute_result"
    },
    {
     "data": {
      "image/png": "[encoded data removed]",
      "text/plain": [
       "<matplotlib.figure.Figure at 0x7f4fa469c2b0>"
      ]
     },
     "metadata": {},
     "output_type": "display_data"
    }
   ],
   "source": [
    "plt.imshow(digits.images[100], cmap=plt.cm.gray_r)\n"
   ]
  },
  {
   "cell_type": "markdown",
   "metadata": {},
   "source": [
    "Let's split the data into train and test using sklearn's function.\n",
    "\n",
    "Before splitting it, we convert it into one-hot encoding: instead of having a vector such as $(1, 2, 10, \\ldots)$ we have a matrix with 10 columns with just \"one-hot\" position with a one."
   ]
  },
  {
   "cell_type": "code",
   "execution_count": 3,
   "metadata": {},
   "outputs": [
    {
     "name": "stderr",
     "output_type": "stream",
     "text": [
      "Using TensorFlow backend.\n",
      "/home/marat/.pyenv/versions/3.6.0/lib/python3.6/importlib/_bootstrap.py:205: RuntimeWarning: compiletime version 3.5 of module 'tensorflow.python.framework.fast_tensor_util' does not match runtime version 3.6\n",
      "  return f(*args, **kwds)\n"
     ]
    },
    {
     "data": {
      "text/plain": [
       "((1347, 64), (1347, 10), (450, 64), (450, 10))"
      ]
     },
     "execution_count": 3,
     "metadata": {},
     "output_type": "execute_result"
    }
   ],
   "source": [
    "import keras\n",
    "\n",
    "X, y = digits.data, digits.target\n",
    "\n",
    "y = keras.utils.to_categorical(y)\n",
    "\n",
    "X_train, X_test, y_train, y_test = train_test_split(X, y)\n",
    "\n",
    "X_train.shape, y_train.shape, X_test.shape, y_test.shape"
   ]
  },
  {
   "cell_type": "markdown",
   "metadata": {},
   "source": [
    "## Feed-forward network"
   ]
  },
  {
   "cell_type": "markdown",
   "metadata": {},
   "source": [
    "Let's define our model. \n",
    "\n",
    "It will be have 64 input, a hidden layer of 128 neurons, and a softmax layer of 10 units (one per possible digit)"
   ]
  },
  {
   "cell_type": "code",
   "execution_count": 4,
   "metadata": {},
   "outputs": [],
   "source": [
    "from keras.models import Sequential\n",
    "from keras.layers import Dense\n",
    "\n",
    "model = Sequential()\n",
    "model.add(Dense(128, input_dim=64, activation='relu'))\n",
    "model.add(Dense(10, activation='softmax'))\n",
    "\n",
    "model.compile(loss=\"categorical_crossentropy\", optimizer=\"rmsprop\", metrics=[\"accuracy\"])"
   ]
  },
  {
   "cell_type": "code",
   "execution_count": 5,
   "metadata": {},
   "outputs": [
    {
     "name": "stdout",
     "output_type": "stream",
     "text": [
      "Epoch 1/10\n",
      "1347/1347 [==============================] - 0s 109us/step - loss: 2.3484 - acc: 0.4759\n",
      "Epoch 2/10\n",
      "1347/1347 [==============================] - 0s 49us/step - loss: 0.4586 - acc: 0.8552\n",
      "Epoch 3/10\n",
      "1347/1347 [==============================] - 0s 48us/step - loss: 0.2304 - acc: 0.9302\n",
      "Epoch 4/10\n",
      "1347/1347 [==============================] - 0s 48us/step - loss: 0.1440 - acc: 0.9569\n",
      "Epoch 5/10\n",
      "1347/1347 [==============================] - 0s 48us/step - loss: 0.1014 - acc: 0.9681\n",
      "Epoch 6/10\n",
      "1347/1347 [==============================] - 0s 50us/step - loss: 0.0726 - acc: 0.9762\n",
      "Epoch 7/10\n",
      "1347/1347 [==============================] - 0s 46us/step - loss: 0.0634 - acc: 0.9844\n",
      "Epoch 8/10\n",
      "1347/1347 [==============================] - 0s 50us/step - loss: 0.0439 - acc: 0.9896\n",
      "Epoch 9/10\n",
      "1347/1347 [==============================] - 0s 46us/step - loss: 0.0310 - acc: 0.9926\n",
      "Epoch 10/10\n",
      "1347/1347 [==============================] - 0s 54us/step - loss: 0.0273 - acc: 0.9941\n"
     ]
    },
    {
     "data": {
      "text/plain": [
       "<keras.callbacks.History at 0x7f4f65f452e8>"
      ]
     },
     "execution_count": 5,
     "metadata": {},
     "output_type": "execute_result"
    }
   ],
   "source": [
    "model.fit(X_train, y_train, epochs=10, batch_size=50)"
   ]
  },
  {
   "cell_type": "code",
   "execution_count": 6,
   "metadata": {},
   "outputs": [
    {
     "name": "stdout",
     "output_type": "stream",
     "text": [
      "450/450 [==============================] - 0s 82us/step\n"
     ]
    },
    {
     "data": {
      "text/plain": [
       "[0.085543088593080435, 0.96666666666666667]"
      ]
     },
     "execution_count": 6,
     "metadata": {},
     "output_type": "execute_result"
    }
   ],
   "source": [
    "model.evaluate(X_test, y_test)"
   ]
  },
  {
   "cell_type": "code",
   "execution_count": 10,
   "metadata": {},
   "outputs": [
    {
     "data": {
      "image/svg+xml": [
       "<svg height=\"78pt\" viewBox=\"0.00 0.00 561.00 78.00\" width=\"561pt\" xmlns=\"http://www.w3.org/2000/svg\" xmlns:xlink=\"http://www.w3.org/1999/xlink\">\n",
       "<g class=\"graph\" id=\"graph0\" transform=\"scale(1 1) rotate(0) translate(4 74)\">\n",
       "<title>G</title>\n",
       "<polygon fill=\"white\" points=\"-4,4 -4,-74 557,-74 557,4 -4,4\" stroke=\"none\"/>\n",
       "<!-- 139978992779840 -->\n",
       "<g class=\"node\" id=\"node1\"><title>139978992779840</title>\n",
       "<polygon fill=\"none\" points=\"5.68434e-14,-0.5 5.68434e-14,-69.5 163,-69.5 163,-0.5 5.68434e-14,-0.5\" stroke=\"black\"/>\n",
       "<text font-family=\"Times,serif\" font-size=\"14.00\" text-anchor=\"middle\" x=\"81.5\" y=\"-54.3\">dense_1_input: InputLayer</text>\n",
       "<polyline fill=\"none\" points=\"5.68434e-14,-46.5 163,-46.5 \" stroke=\"black\"/>\n",
       "<text font-family=\"Times,serif\" font-size=\"14.00\" text-anchor=\"middle\" x=\"39\" y=\"-31.3\">input:</text>\n",
       "<polyline fill=\"none\" points=\"78,-23.5 78,-46.5 \" stroke=\"black\"/>\n",
       "<text font-family=\"Times,serif\" font-size=\"14.00\" text-anchor=\"middle\" x=\"120.5\" y=\"-31.3\">output:</text>\n",
       "<polyline fill=\"none\" points=\"5.68434e-14,-23.5 163,-23.5 \" stroke=\"black\"/>\n",
       "<text font-family=\"Times,serif\" font-size=\"14.00\" text-anchor=\"middle\" x=\"40.5\" y=\"-8.3\">(None, 64)</text>\n",
       "<polyline fill=\"none\" points=\"81,-0.5 81,-23.5 \" stroke=\"black\"/>\n",
       "<text font-family=\"Times,serif\" font-size=\"14.00\" text-anchor=\"middle\" x=\"122\" y=\"-8.3\">(None, 64)</text>\n",
       "</g>\n",
       "<!-- 139978992697296 -->\n",
       "<g class=\"node\" id=\"node2\"><title>139978992697296</title>\n",
       "<polygon fill=\"none\" points=\"199,-0.5 199,-69.5 358,-69.5 358,-0.5 199,-0.5\" stroke=\"black\"/>\n",
       "<text font-family=\"Times,serif\" font-size=\"14.00\" text-anchor=\"middle\" x=\"278.5\" y=\"-54.3\">dense_1: Dense</text>\n",
       "<polyline fill=\"none\" points=\"199,-46.5 358,-46.5 \" stroke=\"black\"/>\n",
       "<text font-family=\"Times,serif\" font-size=\"14.00\" text-anchor=\"middle\" x=\"237\" y=\"-31.3\">input:</text>\n",
       "<polyline fill=\"none\" points=\"275,-23.5 275,-46.5 \" stroke=\"black\"/>\n",
       "<text font-family=\"Times,serif\" font-size=\"14.00\" text-anchor=\"middle\" x=\"316.5\" y=\"-31.3\">output:</text>\n",
       "<polyline fill=\"none\" points=\"199,-23.5 358,-23.5 \" stroke=\"black\"/>\n",
       "<text font-family=\"Times,serif\" font-size=\"14.00\" text-anchor=\"middle\" x=\"237\" y=\"-8.3\">(None, 64)</text>\n",
       "<polyline fill=\"none\" points=\"275,-0.5 275,-23.5 \" stroke=\"black\"/>\n",
       "<text font-family=\"Times,serif\" font-size=\"14.00\" text-anchor=\"middle\" x=\"316.5\" y=\"-8.3\">(None, 128)</text>\n",
       "</g>\n",
       "<!-- 139978992779840&#45;&gt;139978992697296 -->\n",
       "<g class=\"edge\" id=\"edge1\"><title>139978992779840-&gt;139978992697296</title>\n",
       "<path d=\"M163.222,-35C171.564,-35 180.076,-35 188.503,-35\" fill=\"none\" stroke=\"black\"/>\n",
       "<polygon fill=\"black\" points=\"188.722,-38.5001 198.722,-35 188.722,-31.5001 188.722,-38.5001\" stroke=\"black\"/>\n",
       "</g>\n",
       "<!-- 139978992779448 -->\n",
       "<g class=\"node\" id=\"node3\"><title>139978992779448</title>\n",
       "<polygon fill=\"none\" points=\"394,-0.5 394,-69.5 553,-69.5 553,-0.5 394,-0.5\" stroke=\"black\"/>\n",
       "<text font-family=\"Times,serif\" font-size=\"14.00\" text-anchor=\"middle\" x=\"473.5\" y=\"-54.3\">dense_2: Dense</text>\n",
       "<polyline fill=\"none\" points=\"394,-46.5 553,-46.5 \" stroke=\"black\"/>\n",
       "<text font-family=\"Times,serif\" font-size=\"14.00\" text-anchor=\"middle\" x=\"432\" y=\"-31.3\">input:</text>\n",
       "<polyline fill=\"none\" points=\"470,-23.5 470,-46.5 \" stroke=\"black\"/>\n",
       "<text font-family=\"Times,serif\" font-size=\"14.00\" text-anchor=\"middle\" x=\"511.5\" y=\"-31.3\">output:</text>\n",
       "<polyline fill=\"none\" points=\"394,-23.5 553,-23.5 \" stroke=\"black\"/>\n",
       "<text font-family=\"Times,serif\" font-size=\"14.00\" text-anchor=\"middle\" x=\"435.5\" y=\"-8.3\">(None, 128)</text>\n",
       "<polyline fill=\"none\" points=\"477,-0.5 477,-23.5 \" stroke=\"black\"/>\n",
       "<text font-family=\"Times,serif\" font-size=\"14.00\" text-anchor=\"middle\" x=\"515\" y=\"-8.3\">(None, 10)</text>\n",
       "</g>\n",
       "<!-- 139978992697296&#45;&gt;139978992779448 -->\n",
       "<g class=\"edge\" id=\"edge2\"><title>139978992697296-&gt;139978992779448</title>\n",
       "<path d=\"M358,-35C366.477,-35 375.145,-35 383.731,-35\" fill=\"none\" stroke=\"black\"/>\n",
       "<polygon fill=\"black\" points=\"383.756,-38.5001 393.756,-35 383.756,-31.5001 383.756,-38.5001\" stroke=\"black\"/>\n",
       "</g>\n",
       "</g>\n",
       "</svg>"
      ],
      "text/plain": [
       "<IPython.core.display.SVG object>"
      ]
     },
     "execution_count": 10,
     "metadata": {},
     "output_type": "execute_result"
    }
   ],
   "source": [
    "from IPython.display import SVG\n",
    "from keras.utils.vis_utils import model_to_dot\n",
    "\n",
    "SVG(model_to_dot(model, show_shapes=True, rankdir='LR').create(prog='dot', format='svg'))"
   ]
  }
 ],
 "metadata": {
  "kernelspec": {
   "display_name": "Python 3",
   "language": "python",
   "name": "python3"
  },
  "language_info": {
   "codemirror_mode": {
    "name": "ipython",
    "version": 3
   },
   "file_extension": ".py",
   "mimetype": "text/x-python",
   "name": "python",
   "nbconvert_exporter": "python",
   "pygments_lexer": "ipython3",
   "version": "3.6.0"
  }
 },
 "nbformat": 4,
 "nbformat_minor": 2
}
